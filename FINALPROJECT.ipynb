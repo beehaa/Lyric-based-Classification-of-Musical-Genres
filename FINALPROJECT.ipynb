{
  "nbformat": 4,
  "nbformat_minor": 0,
  "metadata": {
    "colab": {
      "name": "FINALPROJECT.ipynb",
      "provenance": [],
      "collapsed_sections": [],
      "include_colab_link": true
    },
    "kernelspec": {
      "name": "python3",
      "display_name": "Python 3"
    },
    "accelerator": "GPU"
  },
  "cells": [
    {
      "cell_type": "markdown",
      "metadata": {
        "id": "view-in-github",
        "colab_type": "text"
      },
      "source": [
        "<a href=\"https://colab.research.google.com/github/brianvoha/Lyric-based-Classification-of-Musical-Genres/blob/master/FINALPROJECT.ipynb\" target=\"_parent\"><img src=\"https://colab.research.google.com/assets/colab-badge.svg\" alt=\"Open In Colab\"/></a>"
      ]
    },
    {
      "cell_type": "code",
      "metadata": {
        "id": "mtR3mCkuXBTp",
        "colab_type": "code",
        "outputId": "c0b438c6-6e25-48e7-ad7e-6cca6b6aef2d",
        "colab": {
          "base_uri": "https://localhost:8080/",
          "height": 222
        }
      },
      "source": [
        "!pip install langdetect"
      ],
      "execution_count": 0,
      "outputs": [
        {
          "output_type": "stream",
          "text": [
            "Collecting langdetect\n",
            "\u001b[?25l  Downloading https://files.pythonhosted.org/packages/59/59/4bc44158a767a6d66de18c4136c8aa90491d56cc951c10b74dd1e13213c9/langdetect-1.0.7.zip (998kB)\n",
            "\r\u001b[K     |▎                               | 10kB 15.9MB/s eta 0:00:01\r\u001b[K     |▋                               | 20kB 1.6MB/s eta 0:00:01\r\u001b[K     |█                               | 30kB 2.3MB/s eta 0:00:01\r\u001b[K     |█▎                              | 40kB 1.6MB/s eta 0:00:01\r\u001b[K     |█▋                              | 51kB 2.0MB/s eta 0:00:01\r\u001b[K     |██                              | 61kB 2.4MB/s eta 0:00:01\r\u001b[K     |██▎                             | 71kB 2.7MB/s eta 0:00:01\r\u001b[K     |██▋                             | 81kB 3.1MB/s eta 0:00:01\r\u001b[K     |███                             | 92kB 2.4MB/s eta 0:00:01\r\u001b[K     |███▎                            | 102kB 2.7MB/s eta 0:00:01\r\u001b[K     |███▋                            | 112kB 2.7MB/s eta 0:00:01\r\u001b[K     |████                            | 122kB 2.7MB/s eta 0:00:01\r\u001b[K     |████▎                           | 133kB 2.7MB/s eta 0:00:01\r\u001b[K     |████▋                           | 143kB 2.7MB/s eta 0:00:01\r\u001b[K     |█████                           | 153kB 2.7MB/s eta 0:00:01\r\u001b[K     |█████▎                          | 163kB 2.7MB/s eta 0:00:01\r\u001b[K     |█████▋                          | 174kB 2.7MB/s eta 0:00:01\r\u001b[K     |██████                          | 184kB 2.7MB/s eta 0:00:01\r\u001b[K     |██████▎                         | 194kB 2.7MB/s eta 0:00:01\r\u001b[K     |██████▋                         | 204kB 2.7MB/s eta 0:00:01\r\u001b[K     |███████                         | 215kB 2.7MB/s eta 0:00:01\r\u001b[K     |███████▎                        | 225kB 2.7MB/s eta 0:00:01\r\u001b[K     |███████▌                        | 235kB 2.7MB/s eta 0:00:01\r\u001b[K     |███████▉                        | 245kB 2.7MB/s eta 0:00:01\r\u001b[K     |████████▏                       | 256kB 2.7MB/s eta 0:00:01\r\u001b[K     |████████▌                       | 266kB 2.7MB/s eta 0:00:01\r\u001b[K     |████████▉                       | 276kB 2.7MB/s eta 0:00:01\r\u001b[K     |█████████▏                      | 286kB 2.7MB/s eta 0:00:01\r\u001b[K     |█████████▌                      | 296kB 2.7MB/s eta 0:00:01\r\u001b[K     |█████████▉                      | 307kB 2.7MB/s eta 0:00:01\r\u001b[K     |██████████▏                     | 317kB 2.7MB/s eta 0:00:01\r\u001b[K     |██████████▌                     | 327kB 2.7MB/s eta 0:00:01\r\u001b[K     |██████████▉                     | 337kB 2.7MB/s eta 0:00:01\r\u001b[K     |███████████▏                    | 348kB 2.7MB/s eta 0:00:01\r\u001b[K     |███████████▌                    | 358kB 2.7MB/s eta 0:00:01\r\u001b[K     |███████████▉                    | 368kB 2.7MB/s eta 0:00:01\r\u001b[K     |████████████▏                   | 378kB 2.7MB/s eta 0:00:01\r\u001b[K     |████████████▌                   | 389kB 2.7MB/s eta 0:00:01\r\u001b[K     |████████████▉                   | 399kB 2.7MB/s eta 0:00:01\r\u001b[K     |█████████████▏                  | 409kB 2.7MB/s eta 0:00:01\r\u001b[K     |█████████████▌                  | 419kB 2.7MB/s eta 0:00:01\r\u001b[K     |█████████████▉                  | 430kB 2.7MB/s eta 0:00:01\r\u001b[K     |██████████████▏                 | 440kB 2.7MB/s eta 0:00:01\r\u001b[K     |██████████████▌                 | 450kB 2.7MB/s eta 0:00:01\r\u001b[K     |██████████████▊                 | 460kB 2.7MB/s eta 0:00:01\r\u001b[K     |███████████████                 | 471kB 2.7MB/s eta 0:00:01\r\u001b[K     |███████████████▍                | 481kB 2.7MB/s eta 0:00:01\r\u001b[K     |███████████████▊                | 491kB 2.7MB/s eta 0:00:01\r\u001b[K     |████████████████                | 501kB 2.7MB/s eta 0:00:01\r\u001b[K     |████████████████▍               | 512kB 2.7MB/s eta 0:00:01\r\u001b[K     |████████████████▊               | 522kB 2.7MB/s eta 0:00:01\r\u001b[K     |█████████████████               | 532kB 2.7MB/s eta 0:00:01\r\u001b[K     |█████████████████▍              | 542kB 2.7MB/s eta 0:00:01\r\u001b[K     |█████████████████▊              | 552kB 2.7MB/s eta 0:00:01\r\u001b[K     |██████████████████              | 563kB 2.7MB/s eta 0:00:01\r\u001b[K     |██████████████████▍             | 573kB 2.7MB/s eta 0:00:01\r\u001b[K     |██████████████████▊             | 583kB 2.7MB/s eta 0:00:01\r\u001b[K     |███████████████████             | 593kB 2.7MB/s eta 0:00:01\r\u001b[K     |███████████████████▍            | 604kB 2.7MB/s eta 0:00:01\r\u001b[K     |███████████████████▊            | 614kB 2.7MB/s eta 0:00:01\r\u001b[K     |████████████████████            | 624kB 2.7MB/s eta 0:00:01\r\u001b[K     |████████████████████▍           | 634kB 2.7MB/s eta 0:00:01\r\u001b[K     |████████████████████▊           | 645kB 2.7MB/s eta 0:00:01\r\u001b[K     |█████████████████████           | 655kB 2.7MB/s eta 0:00:01\r\u001b[K     |█████████████████████▍          | 665kB 2.7MB/s eta 0:00:01\r\u001b[K     |█████████████████████▊          | 675kB 2.7MB/s eta 0:00:01\r\u001b[K     |██████████████████████          | 686kB 2.7MB/s eta 0:00:01\r\u001b[K     |██████████████████████▎         | 696kB 2.7MB/s eta 0:00:01\r\u001b[K     |██████████████████████▋         | 706kB 2.7MB/s eta 0:00:01\r\u001b[K     |███████████████████████         | 716kB 2.7MB/s eta 0:00:01\r\u001b[K     |███████████████████████▎        | 727kB 2.7MB/s eta 0:00:01\r\u001b[K     |███████████████████████▋        | 737kB 2.7MB/s eta 0:00:01\r\u001b[K     |████████████████████████        | 747kB 2.7MB/s eta 0:00:01\r\u001b[K     |████████████████████████▎       | 757kB 2.7MB/s eta 0:00:01\r\u001b[K     |████████████████████████▋       | 768kB 2.7MB/s eta 0:00:01\r\u001b[K     |█████████████████████████       | 778kB 2.7MB/s eta 0:00:01\r\u001b[K     |█████████████████████████▎      | 788kB 2.7MB/s eta 0:00:01\r\u001b[K     |█████████████████████████▋      | 798kB 2.7MB/s eta 0:00:01\r\u001b[K     |██████████████████████████      | 808kB 2.7MB/s eta 0:00:01\r\u001b[K     |██████████████████████████▎     | 819kB 2.7MB/s eta 0:00:01\r\u001b[K     |██████████████████████████▋     | 829kB 2.7MB/s eta 0:00:01\r\u001b[K     |███████████████████████████     | 839kB 2.7MB/s eta 0:00:01\r\u001b[K     |███████████████████████████▎    | 849kB 2.7MB/s eta 0:00:01\r\u001b[K     |███████████████████████████▋    | 860kB 2.7MB/s eta 0:00:01\r\u001b[K     |████████████████████████████    | 870kB 2.7MB/s eta 0:00:01\r\u001b[K     |████████████████████████████▎   | 880kB 2.7MB/s eta 0:00:01\r\u001b[K     |████████████████████████████▋   | 890kB 2.7MB/s eta 0:00:01\r\u001b[K     |█████████████████████████████   | 901kB 2.7MB/s eta 0:00:01\r\u001b[K     |█████████████████████████████▏  | 911kB 2.7MB/s eta 0:00:01\r\u001b[K     |█████████████████████████████▌  | 921kB 2.7MB/s eta 0:00:01\r\u001b[K     |█████████████████████████████▉  | 931kB 2.7MB/s eta 0:00:01\r\u001b[K     |██████████████████████████████▏ | 942kB 2.7MB/s eta 0:00:01\r\u001b[K     |██████████████████████████████▌ | 952kB 2.7MB/s eta 0:00:01\r\u001b[K     |██████████████████████████████▉ | 962kB 2.7MB/s eta 0:00:01\r\u001b[K     |███████████████████████████████▏| 972kB 2.7MB/s eta 0:00:01\r\u001b[K     |███████████████████████████████▌| 983kB 2.7MB/s eta 0:00:01\r\u001b[K     |███████████████████████████████▉| 993kB 2.7MB/s eta 0:00:01\r\u001b[K     |████████████████████████████████| 1.0MB 2.7MB/s \n",
            "\u001b[?25hRequirement already satisfied: six in /usr/local/lib/python3.6/dist-packages (from langdetect) (1.12.0)\n",
            "Building wheels for collected packages: langdetect\n",
            "  Building wheel for langdetect (setup.py) ... \u001b[?25l\u001b[?25hdone\n",
            "  Created wheel for langdetect: filename=langdetect-1.0.7-cp36-none-any.whl size=993460 sha256=a4f6e3440e5fbc2fbf0eca86fbcf8543636e24eb8f51b7161f19ebae0e5ecd2a\n",
            "  Stored in directory: /root/.cache/pip/wheels/ec/0c/a9/1647275e7ef5014e7b83ff30105180e332867d65e7617ddafe\n",
            "Successfully built langdetect\n",
            "Installing collected packages: langdetect\n",
            "Successfully installed langdetect-1.0.7\n"
          ],
          "name": "stdout"
        }
      ]
    },
    {
      "cell_type": "code",
      "metadata": {
        "id": "4jyT7G0IbjCp",
        "colab_type": "code",
        "outputId": "eb292178-f49e-4e67-a2f9-e4b04e8ab47d",
        "colab": {
          "base_uri": "https://localhost:8080/",
          "height": 457
        }
      },
      "source": [
        "!pip install whatthelang"
      ],
      "execution_count": 0,
      "outputs": [
        {
          "output_type": "stream",
          "text": [
            "Collecting whatthelang\n",
            "\u001b[?25l  Downloading https://files.pythonhosted.org/packages/8a/28/2abb6e71271e91eaf67fc2279f1abbae3a0200122c71fb1db518717909ae/whatthelang-1.0.1.tar.gz (786kB)\n",
            "\u001b[K     |████████████████████████████████| 788kB 2.8MB/s \n",
            "\u001b[?25hRequirement already satisfied: Cython in /usr/local/lib/python3.6/dist-packages (from whatthelang) (0.29.14)\n",
            "Collecting cysignals\n",
            "\u001b[?25l  Downloading https://files.pythonhosted.org/packages/51/5f/727aa099de5c60b3fb42cdde72097277803dabe78b177afdb5b835bbf909/cysignals-1.10.2.tar.gz (95kB)\n",
            "\u001b[K     |████████████████████████████████| 102kB 12.1MB/s \n",
            "\u001b[?25hCollecting pyfasttext\n",
            "\u001b[?25l  Downloading https://files.pythonhosted.org/packages/f5/ef/90606442481d1e4ab10eba8c2b2c449ceaa70c60e9b8d5898bb7504e3634/pyfasttext-0.4.6.tar.gz (244kB)\n",
            "\u001b[K     |████████████████████████████████| 245kB 43.0MB/s \n",
            "\u001b[?25hRequirement already satisfied: future in /usr/local/lib/python3.6/dist-packages (from pyfasttext->whatthelang) (0.16.0)\n",
            "Requirement already satisfied: numpy in /usr/local/lib/python3.6/dist-packages (from pyfasttext->whatthelang) (1.17.4)\n",
            "Building wheels for collected packages: whatthelang, cysignals, pyfasttext\n",
            "  Building wheel for whatthelang (setup.py) ... \u001b[?25l\u001b[?25hdone\n",
            "  Created wheel for whatthelang: filename=whatthelang-1.0.1-cp36-none-any.whl size=789774 sha256=c6e1c895f29222d76ed2cc3f0a7123b42fb61f4d6de9671a9b9e260d038e183b\n",
            "  Stored in directory: /root/.cache/pip/wheels/54/ec/de/379ea04fcc427c46fe3ecd21a5041875fcb41bbd81062abba5\n",
            "  Building wheel for cysignals (setup.py) ... \u001b[?25l\u001b[?25hdone\n",
            "  Created wheel for cysignals: filename=cysignals-1.10.2-cp36-cp36m-linux_x86_64.whl size=712495 sha256=de779fcc9d7de1892a62ecca4f87e1e74c11a940354ee9f53ad65c6eafbab9be\n",
            "  Stored in directory: /root/.cache/pip/wheels/42/e3/e3/b4f55dcd70e68a76b7c2ac9dfab601d009da52a19903a885af\n",
            "  Building wheel for pyfasttext (setup.py) ... \u001b[?25l\u001b[?25hdone\n",
            "  Created wheel for pyfasttext: filename=pyfasttext-0.4.6-cp36-cp36m-linux_x86_64.whl size=1474237 sha256=a6a349fe75be2e43fbe3139b440c8c8eb59cbf03dfd2a38c1e3db01162eb6f50\n",
            "  Stored in directory: /root/.cache/pip/wheels/25/de/c6/3d26a304c069689a7bf5ef2cc774588663700c8381dbf3d947\n",
            "Successfully built whatthelang cysignals pyfasttext\n",
            "Installing collected packages: cysignals, pyfasttext, whatthelang\n",
            "Successfully installed cysignals-1.10.2 pyfasttext-0.4.6 whatthelang-1.0.1\n"
          ],
          "name": "stdout"
        }
      ]
    },
    {
      "cell_type": "code",
      "metadata": {
        "id": "f6CXLb8i2NFk",
        "colab_type": "code",
        "outputId": "c05d63e0-28f7-4fd7-cbf1-77102d6588ea",
        "colab": {
          "base_uri": "https://localhost:8080/",
          "height": 101
        }
      },
      "source": [
        "# DONT RUN\n",
        "import pandas as pd\n",
        "import matplotlib.pyplot as plt\n",
        "from whatthelang import WhatTheLang\n",
        "\n",
        "songList = pd.read_csv(\"lyrics.csv\", engine='python', error_bad_lines=False, encoding='utf-8')\n",
        "\n",
        "# replace '\\n' with space\n",
        "songList = songList.replace({'\\n': ' '}, regex=True)\n",
        "\n",
        "# Clean up the dataset (from Lyrics Genre Analysis - Machine Learning)\n",
        "songList['lyrics'] = songList['lyrics'].str.replace(r'[^\\w\\s]+', '')\n",
        "songList['lyrics'] = songList['lyrics'].str.replace(r'^\\s+$', '')\n",
        "songList['lyrics'] = songList['lyrics'].str.replace(r'^[\\s\\d\\s]+$', '')\n",
        "\n",
        "# remove all songs with <13 characters (Includes all the Instrumental songs)\n",
        "songList=songList[songList.lyrics.apply(lambda x: len(str(x))>=13)]\n",
        "print(str(len(songList))+\" rows left.\")\n",
        "\n",
        "# Remove duplicate lyrics fields, keep the first entry\n",
        "songList.drop_duplicates(subset =\"lyrics\", keep = 'first', inplace = True)\n",
        "\n",
        "print(str(len(songList))+\" rows left.\") \n",
        "\n",
        "# Remove songs with 'Not Available' or 'Other' as their genres\n",
        "songList = songList[songList['genre']!='Not Available'].dropna()\n",
        "songList = songList[songList['genre']!='Other'].dropna()\n",
        "print(str(len(songList))+\" rows left.\")\n",
        "\n",
        "# Remove songs that are not in english\n",
        "wtl = WhatTheLang()\n",
        "songList=songList[songList.lyrics.apply(lambda x: wtl.predict_lang(str(x))==\"en\")]\n",
        "print(str(len(songList))+\" rows left.\")\n",
        "\n",
        "songList['word_count'] = songList['lyrics'].str.split().str.len()\n",
        "songList.head()\n",
        "\n",
        "#remove all songs with <100 words or >1000 words\n",
        "df_clean = songList[songList['word_count'] >= 100]\n",
        "df_clean = songList[songList['word_count'] <= 1000]\n",
        "df_clean['word_count'].groupby(df_clean['genre']).describe()\n",
        "print(str(len(df_clean))+\" rows left.\")\n",
        "\n",
        "df_clean.to_csv(\"clean.csv\", encoding='utf-8')"
      ],
      "execution_count": 0,
      "outputs": [
        {
          "output_type": "stream",
          "text": [
            "261490 rows left.\n",
            "243116 rows left.\n",
            "217188 rows left.\n",
            "201423 rows left.\n",
            "200943 rows left.\n"
          ],
          "name": "stdout"
        }
      ]
    },
    {
      "cell_type": "code",
      "metadata": {
        "id": "z0NYWUaDkDEv",
        "colab_type": "code",
        "colab": {}
      },
      "source": [
        "#DONT RUN\n",
        "import random\n",
        "import pandas as pd"
      ],
      "execution_count": 0,
      "outputs": []
    },
    {
      "cell_type": "code",
      "metadata": {
        "id": "eFOfqQyZnxTV",
        "colab_type": "code",
        "outputId": "da96c702-1e67-4661-eb6c-c54f243f120f",
        "colab": {
          "base_uri": "https://localhost:8080/",
          "height": 170
        }
      },
      "source": [
        "#UPLOAD CLEAN.CSV AND START HERE\n",
        "import pandas as pd\n",
        "\n",
        "songList = pd.read_csv(\"clean.csv\", engine='python', error_bad_lines=False, encoding='utf-8')\n",
        "index = []\n",
        "columns = ['index','song','year','artist','genre','lyrics']\n",
        "final = pd.DataFrame(index=index,columns=columns)\n",
        "a = set(songList['genre'])\n",
        "\n",
        "# remove 5 genres with the least amount of songs\n",
        "a.remove('Electronic')\n",
        "a.remove('Folk')\n",
        "a.remove('Indie')\n",
        "a.remove('Jazz')\n",
        "a.remove('R&B')\n",
        "\n",
        "# take a random sample of 13353 for each of the remaining genres and put them into \n",
        "for genre in a:\n",
        "    temp = songList[songList['genre'] == genre].sample(n=13353,random_state = 1)\n",
        "    final = pd.concat([final,temp])\n",
        "print(len(final))\n",
        "final.to_csv(\"balanced.csv\", encoding='utf-8')"
      ],
      "execution_count": 0,
      "outputs": [
        {
          "output_type": "stream",
          "text": [
            "/usr/local/lib/python3.6/dist-packages/ipykernel_launcher.py:16: FutureWarning: Sorting because non-concatenation axis is not aligned. A future version\n",
            "of pandas will change to not sort by default.\n",
            "\n",
            "To accept the future behavior, pass 'sort=False'.\n",
            "\n",
            "To retain the current behavior and silence the warning, pass 'sort=True'.\n",
            "\n",
            "  app.launch_new_instance()\n"
          ],
          "name": "stderr"
        },
        {
          "output_type": "stream",
          "text": [
            "66765\n"
          ],
          "name": "stdout"
        }
      ]
    },
    {
      "cell_type": "code",
      "metadata": {
        "id": "bWLjRpgRGvJ3",
        "colab_type": "code",
        "outputId": "9bfbf415-e00b-4eca-9771-dd5062b3e9d8",
        "colab": {
          "base_uri": "https://localhost:8080/",
          "height": 663
        }
      },
      "source": [
        "# DONT RUN\n",
        "# remove stopwords from final\n",
        "# import nltk\n",
        "# from nltk.corpus import stopwords\n",
        "# stop_words = stopwords.words('english')\n",
        "# tokenized = final['lyrics'].apply(lambda x: x.split())\n",
        "# tokenized = tokenized.apply(lambda x: [item for item in x if item not in stop_words])\n",
        "# detokenized_doc = [] \n",
        "# for i in range(len(final)): \n",
        "#     t = ' '.join(tokenized[i]) \n",
        "#     detokenized_doc.append(t) \n",
        "# final['lyrics'] = detokenized_doc"
      ],
      "execution_count": 0,
      "outputs": [
        {
          "output_type": "error",
          "ename": "KeyError",
          "evalue": "ignored",
          "traceback": [
            "\u001b[0;31m---------------------------------------------------------------------------\u001b[0m",
            "\u001b[0;31mKeyError\u001b[0m                                  Traceback (most recent call last)",
            "\u001b[0;32m<ipython-input-8-acb67e208531>\u001b[0m in \u001b[0;36m<module>\u001b[0;34m()\u001b[0m\n\u001b[1;32m      6\u001b[0m \u001b[0mdetokenized_doc\u001b[0m \u001b[0;34m=\u001b[0m \u001b[0;34m[\u001b[0m\u001b[0;34m]\u001b[0m\u001b[0;34m\u001b[0m\u001b[0;34m\u001b[0m\u001b[0m\n\u001b[1;32m      7\u001b[0m \u001b[0;32mfor\u001b[0m \u001b[0mi\u001b[0m \u001b[0;32min\u001b[0m \u001b[0mrange\u001b[0m\u001b[0;34m(\u001b[0m\u001b[0mlen\u001b[0m\u001b[0;34m(\u001b[0m\u001b[0mfinal\u001b[0m\u001b[0;34m)\u001b[0m\u001b[0;34m)\u001b[0m\u001b[0;34m:\u001b[0m\u001b[0;34m\u001b[0m\u001b[0;34m\u001b[0m\u001b[0m\n\u001b[0;32m----> 8\u001b[0;31m     \u001b[0mt\u001b[0m \u001b[0;34m=\u001b[0m \u001b[0;34m' '\u001b[0m\u001b[0;34m.\u001b[0m\u001b[0mjoin\u001b[0m\u001b[0;34m(\u001b[0m\u001b[0mtokenized\u001b[0m\u001b[0;34m[\u001b[0m\u001b[0mi\u001b[0m\u001b[0;34m]\u001b[0m\u001b[0;34m)\u001b[0m\u001b[0;34m\u001b[0m\u001b[0;34m\u001b[0m\u001b[0m\n\u001b[0m\u001b[1;32m      9\u001b[0m     \u001b[0mdetokenized_doc\u001b[0m\u001b[0;34m.\u001b[0m\u001b[0mappend\u001b[0m\u001b[0;34m(\u001b[0m\u001b[0mt\u001b[0m\u001b[0;34m)\u001b[0m\u001b[0;34m\u001b[0m\u001b[0;34m\u001b[0m\u001b[0m\n\u001b[1;32m     10\u001b[0m \u001b[0mfinal\u001b[0m\u001b[0;34m[\u001b[0m\u001b[0;34m'lyrics'\u001b[0m\u001b[0;34m]\u001b[0m \u001b[0;34m=\u001b[0m \u001b[0mdetokenized_doc\u001b[0m\u001b[0;34m\u001b[0m\u001b[0;34m\u001b[0m\u001b[0m\n",
            "\u001b[0;32m/usr/local/lib/python3.6/dist-packages/pandas/core/series.py\u001b[0m in \u001b[0;36m__getitem__\u001b[0;34m(self, key)\u001b[0m\n\u001b[1;32m   1069\u001b[0m         \u001b[0mkey\u001b[0m \u001b[0;34m=\u001b[0m \u001b[0mcom\u001b[0m\u001b[0;34m.\u001b[0m\u001b[0mapply_if_callable\u001b[0m\u001b[0;34m(\u001b[0m\u001b[0mkey\u001b[0m\u001b[0;34m,\u001b[0m \u001b[0mself\u001b[0m\u001b[0;34m)\u001b[0m\u001b[0;34m\u001b[0m\u001b[0;34m\u001b[0m\u001b[0m\n\u001b[1;32m   1070\u001b[0m         \u001b[0;32mtry\u001b[0m\u001b[0;34m:\u001b[0m\u001b[0;34m\u001b[0m\u001b[0;34m\u001b[0m\u001b[0m\n\u001b[0;32m-> 1071\u001b[0;31m             \u001b[0mresult\u001b[0m \u001b[0;34m=\u001b[0m \u001b[0mself\u001b[0m\u001b[0;34m.\u001b[0m\u001b[0mindex\u001b[0m\u001b[0;34m.\u001b[0m\u001b[0mget_value\u001b[0m\u001b[0;34m(\u001b[0m\u001b[0mself\u001b[0m\u001b[0;34m,\u001b[0m \u001b[0mkey\u001b[0m\u001b[0;34m)\u001b[0m\u001b[0;34m\u001b[0m\u001b[0;34m\u001b[0m\u001b[0m\n\u001b[0m\u001b[1;32m   1072\u001b[0m \u001b[0;34m\u001b[0m\u001b[0m\n\u001b[1;32m   1073\u001b[0m             \u001b[0;32mif\u001b[0m \u001b[0;32mnot\u001b[0m \u001b[0mis_scalar\u001b[0m\u001b[0;34m(\u001b[0m\u001b[0mresult\u001b[0m\u001b[0;34m)\u001b[0m\u001b[0;34m:\u001b[0m\u001b[0;34m\u001b[0m\u001b[0;34m\u001b[0m\u001b[0m\n",
            "\u001b[0;32m/usr/local/lib/python3.6/dist-packages/pandas/core/indexes/base.py\u001b[0m in \u001b[0;36mget_value\u001b[0;34m(self, series, key)\u001b[0m\n\u001b[1;32m   4728\u001b[0m         \u001b[0mk\u001b[0m \u001b[0;34m=\u001b[0m \u001b[0mself\u001b[0m\u001b[0;34m.\u001b[0m\u001b[0m_convert_scalar_indexer\u001b[0m\u001b[0;34m(\u001b[0m\u001b[0mk\u001b[0m\u001b[0;34m,\u001b[0m \u001b[0mkind\u001b[0m\u001b[0;34m=\u001b[0m\u001b[0;34m\"getitem\"\u001b[0m\u001b[0;34m)\u001b[0m\u001b[0;34m\u001b[0m\u001b[0;34m\u001b[0m\u001b[0m\n\u001b[1;32m   4729\u001b[0m         \u001b[0;32mtry\u001b[0m\u001b[0;34m:\u001b[0m\u001b[0;34m\u001b[0m\u001b[0;34m\u001b[0m\u001b[0m\n\u001b[0;32m-> 4730\u001b[0;31m             \u001b[0;32mreturn\u001b[0m \u001b[0mself\u001b[0m\u001b[0;34m.\u001b[0m\u001b[0m_engine\u001b[0m\u001b[0;34m.\u001b[0m\u001b[0mget_value\u001b[0m\u001b[0;34m(\u001b[0m\u001b[0ms\u001b[0m\u001b[0;34m,\u001b[0m \u001b[0mk\u001b[0m\u001b[0;34m,\u001b[0m \u001b[0mtz\u001b[0m\u001b[0;34m=\u001b[0m\u001b[0mgetattr\u001b[0m\u001b[0;34m(\u001b[0m\u001b[0mseries\u001b[0m\u001b[0;34m.\u001b[0m\u001b[0mdtype\u001b[0m\u001b[0;34m,\u001b[0m \u001b[0;34m\"tz\"\u001b[0m\u001b[0;34m,\u001b[0m \u001b[0;32mNone\u001b[0m\u001b[0;34m)\u001b[0m\u001b[0;34m)\u001b[0m\u001b[0;34m\u001b[0m\u001b[0;34m\u001b[0m\u001b[0m\n\u001b[0m\u001b[1;32m   4731\u001b[0m         \u001b[0;32mexcept\u001b[0m \u001b[0mKeyError\u001b[0m \u001b[0;32mas\u001b[0m \u001b[0me1\u001b[0m\u001b[0;34m:\u001b[0m\u001b[0;34m\u001b[0m\u001b[0;34m\u001b[0m\u001b[0m\n\u001b[1;32m   4732\u001b[0m             \u001b[0;32mif\u001b[0m \u001b[0mlen\u001b[0m\u001b[0;34m(\u001b[0m\u001b[0mself\u001b[0m\u001b[0;34m)\u001b[0m \u001b[0;34m>\u001b[0m \u001b[0;36m0\u001b[0m \u001b[0;32mand\u001b[0m \u001b[0;34m(\u001b[0m\u001b[0mself\u001b[0m\u001b[0;34m.\u001b[0m\u001b[0mholds_integer\u001b[0m\u001b[0;34m(\u001b[0m\u001b[0;34m)\u001b[0m \u001b[0;32mor\u001b[0m \u001b[0mself\u001b[0m\u001b[0;34m.\u001b[0m\u001b[0mis_boolean\u001b[0m\u001b[0;34m(\u001b[0m\u001b[0;34m)\u001b[0m\u001b[0;34m)\u001b[0m\u001b[0;34m:\u001b[0m\u001b[0;34m\u001b[0m\u001b[0;34m\u001b[0m\u001b[0m\n",
            "\u001b[0;32mpandas/_libs/index.pyx\u001b[0m in \u001b[0;36mpandas._libs.index.IndexEngine.get_value\u001b[0;34m()\u001b[0m\n",
            "\u001b[0;32mpandas/_libs/index.pyx\u001b[0m in \u001b[0;36mpandas._libs.index.IndexEngine.get_value\u001b[0;34m()\u001b[0m\n",
            "\u001b[0;32mpandas/_libs/index.pyx\u001b[0m in \u001b[0;36mpandas._libs.index.IndexEngine.get_loc\u001b[0;34m()\u001b[0m\n",
            "\u001b[0;32mpandas/_libs/hashtable_class_helper.pxi\u001b[0m in \u001b[0;36mpandas._libs.hashtable.Int64HashTable.get_item\u001b[0;34m()\u001b[0m\n",
            "\u001b[0;32mpandas/_libs/hashtable_class_helper.pxi\u001b[0m in \u001b[0;36mpandas._libs.hashtable.Int64HashTable.get_item\u001b[0;34m()\u001b[0m\n",
            "\u001b[0;31mKeyError\u001b[0m: 1"
          ]
        }
      ]
    },
    {
      "cell_type": "code",
      "metadata": {
        "id": "17C9sHolhJki",
        "colab_type": "code",
        "outputId": "241c6a4b-c952-44c8-ee6c-f48e0da64dd3",
        "colab": {
          "base_uri": "https://localhost:8080/",
          "height": 68
        }
      },
      "source": [
        "from fastai.text import *\n",
        "from sklearn.model_selection import train_test_split\n",
        "\n",
        "# split data into train/val and test sets\n",
        "final, test = train_test_split(final, test_size=0.2, random_state=1)\n",
        "print(final.shape)\n",
        "print(test.shape)\n",
        "final = final[~final.isna().any(axis=1)]\n",
        "# split train/val ito train and val sets\n",
        "final['train'] = np.random.choice(a=[True,False], size=len(final), p=[0.8,0.2])\n",
        "final.groupby('train').size()\n",
        "df_full = final.copy()"
      ],
      "execution_count": 0,
      "outputs": [
        {
          "output_type": "stream",
          "text": [
            "66765\n",
            "(53412, 8)\n",
            "(13353, 8)\n"
          ],
          "name": "stdout"
        }
      ]
    },
    {
      "cell_type": "code",
      "metadata": {
        "id": "S7z46nRTTfC2",
        "colab_type": "code",
        "outputId": "baba632e-4dd5-4636-eaf1-5899668343a2",
        "colab": {
          "base_uri": "https://localhost:8080/",
          "height": 17
        }
      },
      "source": [
        "#create the language model and classfier model data bunches\n",
        "data_lm2 = TextLMDataBunch.from_df(path='.', \n",
        "                             train_df=final[final['train']], \n",
        "                             valid_df=final[~final['train']], \n",
        "                             text_cols = 'lyrics',\n",
        "                            )\n",
        "data2 = TextClasDataBunch.from_df(path='.', \n",
        "                             train_df=final[final['train']], \n",
        "                             valid_df=final[~final['train']], \n",
        "                             text_cols = 'lyrics',\n",
        "                             label_cols = 'genre',\n",
        "                             vocab = data_lm2.train_ds.vocab, bs=32\n",
        "                            )"
      ],
      "execution_count": 0,
      "outputs": [
        {
          "output_type": "display_data",
          "data": {
            "text/html": [
              ""
            ],
            "text/plain": [
              "<IPython.core.display.HTML object>"
            ]
          },
          "metadata": {
            "tags": []
          }
        },
        {
          "output_type": "display_data",
          "data": {
            "text/html": [
              ""
            ],
            "text/plain": [
              "<IPython.core.display.HTML object>"
            ]
          },
          "metadata": {
            "tags": []
          }
        },
        {
          "output_type": "display_data",
          "data": {
            "text/html": [
              ""
            ],
            "text/plain": [
              "<IPython.core.display.HTML object>"
            ]
          },
          "metadata": {
            "tags": []
          }
        },
        {
          "output_type": "display_data",
          "data": {
            "text/html": [
              ""
            ],
            "text/plain": [
              "<IPython.core.display.HTML object>"
            ]
          },
          "metadata": {
            "tags": []
          }
        }
      ]
    },
    {
      "cell_type": "code",
      "metadata": {
        "id": "7XLsYYCsWd_1",
        "colab_type": "code",
        "colab": {}
      },
      "source": [
        "#save our data bunches so we don't have to create them every time\n",
        "data_lm2.save('data_lm2_export.pkl')\n",
        "data2.save('data2_export.pkl')"
      ],
      "execution_count": 0,
      "outputs": []
    },
    {
      "cell_type": "code",
      "metadata": {
        "id": "NULQxZELWsLZ",
        "colab_type": "code",
        "colab": {}
      },
      "source": [
        "#load in the data bunches\n",
        "data_lm2 = load_data('.', 'data_lm2_export.pkl')\n",
        "data2 = load_data('.', 'data2_export.pkl', bs=16)"
      ],
      "execution_count": 0,
      "outputs": []
    },
    {
      "cell_type": "code",
      "metadata": {
        "id": "yy1VVU-9W5L3",
        "colab_type": "code",
        "outputId": "8595b339-a1c8-4519-8124-c1bc1388b428",
        "colab": {
          "base_uri": "https://localhost:8080/",
          "height": 80
        }
      },
      "source": [
        "#start fine-tuning the pre-trained model to fit our dataset\n",
        "learn2 = language_model_learner(data_lm2, AWD_LSTM, drop_mult=0.5)\n",
        "learn2.fit_one_cycle(1, 1e-2)"
      ],
      "execution_count": 0,
      "outputs": [
        {
          "output_type": "display_data",
          "data": {
            "text/html": [
              "<table border=\"1\" class=\"dataframe\">\n",
              "  <thead>\n",
              "    <tr style=\"text-align: left;\">\n",
              "      <th>epoch</th>\n",
              "      <th>train_loss</th>\n",
              "      <th>valid_loss</th>\n",
              "      <th>accuracy</th>\n",
              "      <th>time</th>\n",
              "    </tr>\n",
              "  </thead>\n",
              "  <tbody>\n",
              "    <tr>\n",
              "      <td>0</td>\n",
              "      <td>4.626846</td>\n",
              "      <td>4.429490</td>\n",
              "      <td>0.247604</td>\n",
              "      <td>11:13</td>\n",
              "    </tr>\n",
              "  </tbody>\n",
              "</table>"
            ],
            "text/plain": [
              "<IPython.core.display.HTML object>"
            ]
          },
          "metadata": {
            "tags": []
          }
        }
      ]
    },
    {
      "cell_type": "code",
      "metadata": {
        "id": "2xbB4IpLubLm",
        "colab_type": "code",
        "outputId": "b343ff12-e4e7-4a4d-bbc3-68e3667f2ce5",
        "colab": {
          "base_uri": "https://localhost:8080/",
          "height": 80
        }
      },
      "source": [
        "learn2.unfreeze()\n",
        "learn2.fit_one_cycle(1, 1e-3)"
      ],
      "execution_count": 0,
      "outputs": [
        {
          "output_type": "display_data",
          "data": {
            "text/html": [
              "<table border=\"1\" class=\"dataframe\">\n",
              "  <thead>\n",
              "    <tr style=\"text-align: left;\">\n",
              "      <th>epoch</th>\n",
              "      <th>train_loss</th>\n",
              "      <th>valid_loss</th>\n",
              "      <th>accuracy</th>\n",
              "      <th>time</th>\n",
              "    </tr>\n",
              "  </thead>\n",
              "  <tbody>\n",
              "    <tr>\n",
              "      <td>0</td>\n",
              "      <td>4.132540</td>\n",
              "      <td>4.057145</td>\n",
              "      <td>0.294620</td>\n",
              "      <td>12:37</td>\n",
              "    </tr>\n",
              "  </tbody>\n",
              "</table>"
            ],
            "text/plain": [
              "<IPython.core.display.HTML object>"
            ]
          },
          "metadata": {
            "tags": []
          }
        }
      ]
    },
    {
      "cell_type": "code",
      "metadata": {
        "id": "o24jsBt6ysSu",
        "colab_type": "code",
        "colab": {}
      },
      "source": [
        "learn2.save_encoder('ft_enc')"
      ],
      "execution_count": 0,
      "outputs": []
    },
    {
      "cell_type": "code",
      "metadata": {
        "id": "Zx8-Mx1MGVub",
        "colab_type": "code",
        "outputId": "247dd1ad-9cc9-4dbc-dd35-1b7304bcb038",
        "colab": {
          "base_uri": "https://localhost:8080/",
          "height": 1000
        }
      },
      "source": [
        "learn2 = text_classifier_learner(data2, AWD_LSTM, drop_mult=0.5)\n",
        "learn2.load_encoder('ft_enc')"
      ],
      "execution_count": 0,
      "outputs": [
        {
          "output_type": "execute_result",
          "data": {
            "text/plain": [
              "RNNLearner(data=TextClasDataBunch;\n",
              "\n",
              "Train: LabelList (42792 items)\n",
              "x: TextList\n",
              "xxbos xxmaj innocence smiles in the playground xxmaj as a grey man touches her hair sweets for a pretty girl xxmaj but she s not such a silly girl xxmaj as she slaps the hand away xxmaj poison on my plate so hungry i ate xxmaj poison on my plate so hungry i feel the steel inside xxmaj our mouths open wide xxmaj we sharpen our teeth and flexing our jaws xxmaj we bite the hand that feed us xxmaj he grows to be big and strong xxmaj eats the vegetables joins their family xxmaj the ignorance he found xxmaj helps the medicine go down xxmaj helps the stale untruths taste nicer xxmaj poison on my plate so hungry i ate xxmaj poison on my plate so hungry xxmaj the lies disguise wears thin xxmaj the fasting begins xxmaj the scraping of chairs cutlery screams xxmaj when may we leave the table,xxbos i do nt need a whole lotta money i do nt need a big fine car i got everything that a girl could want i got more than i could ask for i do nt have to run around i do nt have to stay out all night xxmaj cause i got a sweet sweet lovin man xxmaj and he knows just how to treat me right xxmaj see my baby he s alright xxmaj see my baby were so tight xxmaj do nt you know he is some kind of wonderful xxmaj yes he is xxmaj he s some kind of wonderful xxmaj do nt you know he is some kind of wonderful xxmaj let me tell you one more thing xxmaj now when he holds me in his arms xxmaj he sets my soul on fire xxmaj and ooh when my baby kisses me xxmaj my heart becomes filled with desire xxmaj when he wraps his loving arms around me xxmaj he almost drives me out of my mind i get these funny little feelings inside of me xxmaj chills run up and down my spine xxmaj my baby he s alright xxmaj me and my baby were so tight xxmaj do nt you know he is some kind of wonderful xxmaj yes he is xxmaj some kinda wonderful xxmaj he is some kind of wonderful xxmaj now hold on let me know just one more thing xxmaj is there anyone out there with a sweet loving man like mine xxmaj there s got to be somebody with a sweet loving man like mine xxmaj now tell me ladies xxmaj can i get a witness xxmaj can i get a witness up in here xxmaj ladies xxmaj can i get a witness xxmaj can i get a witness xxmaj can i get a witness xxmaj do you know what i m talkin about xxmaj ladies are you listening xxmaj can i get a witness xxmaj wonderful xxmaj some kinda wonderful xxmaj do nt you know he is xxmaj some kind of wonderful xxmaj do nt you know he is xxmaj some kind of wonderful xxmaj do nt you know he is xxmaj some kind of wonderful xxmaj he s some kind of wonderful xxmaj yes he is xxmaj do nt you know he is xxmaj some kind of wonderful xxmaj do nt you know he is xxmaj some kind of wonderful xxmaj do nt you know he is xxmaj some kind of wonderful xxmaj do nt you know he is xxmaj some kind of wonderful xxmaj do nt you know he is xxmaj some kind of wonderful xxmaj do nt you know he s some kind of wonderful xxmaj do nt you know he is i m talkin bout my baby yeah,xxbos i could be like you i could be alone and jaded xxmaj wondering what to do until they say i could be like you xxmaj angry and intoxicated xxmaj wondering what to do to make them pay xxmaj and will i find a way xxmaj can i make them see xxmaj and make them all believe you re wrong xxmaj your ill intentions do nt belong i hear you talk the talk xxmaj but i do nt see you walk the walk xxmaj and i still do nt believe a thing you say,xxbos xxmaj ribbon of darkness over me since my true love walked out the door xxmaj tears i never had before ribbon of darkness over me xxmaj cloudsre gathering oer my head they chill the day and hide the sun xxmaj and shroud the night when day is done ribbon of darkness over me xxmaj rain is fallin on the meadow where once my love and i did lie xxmaj now he is gone from the meadow my love goodbye xxmaj ribbon of darkness over me where once the world was young as spring xxmaj where cloudsre bloomin birds were would sing ribbon of darkness over me xxmaj in this cold room lying do nt wanna see no one but you xxmaj lord i wish i could be dying to forget you xxmaj how i wish your heart could see my mind just takes the breaks of day xxmaj come on back and take away ribbon of darkness over me xxmaj la da da da dee de dee la da da da dee de dee xxmaj hmm hmm hmm ribbon of darkness over me,xxbos a herd of wild horses a stampede of cows xxmaj the sheriffs department with a pack of bloodhounds xxmaj ai nt ever gon na move me away from your side i m off and running xxmaj ill be here forever now i ve made up my mind i d rather drive across xxmaj texas in a stolen car xxmaj with the rangers on my tail and no head start i d rather draw my last breath with a bullet in my heart xxmaj than ever drive away from you xxmaj ill never drive away from you xxmaj take the xxmaj wichita xxmaj river jumping in space xxmaj throw in a tornado and a couple of earthquakes xxmaj they just ai nt strong enough to pull us apart xxmaj you told me that you love me xxmaj nothings ever gon na drag me out of your arms i d rather drive across xxmaj texas in a stolen car xxmaj with the rangers on my tail and no head start i d rather draw my last breath with a bullet in my heart xxmaj than ever drive away from you xxmaj ill never drive away from you i d rather drive across xxmaj texas in a stolen car xxmaj with the rangers on my tail and no head start i d rather draw my last breath with a bullet in my heart xxmaj than ever drive away from you i d rather drive across xxmaj texas in a stolen car xxmaj with the rangers on my tail and no head start i d rather draw my last breath with a bullet in my heart xxmaj than ever drive away from you xxmaj no xxmaj ill never drive away i d rather draw my last breath with a bullet in my heart xxmaj than ever drive away from you\n",
              "y: CategoryList\n",
              "Rock,Pop,Rock,Country,Country\n",
              "Path: .;\n",
              "\n",
              "Valid: LabelList (10620 items)\n",
              "x: TextList\n",
              "xxbos xxmaj in a world so cynical xxmaj you came in and changed the ball xxmaj from black to white xxmaj and made me right xxmaj this is all atypical xxmaj no one else has had the time xxmaj to read the signs xxmaj you are the only one xxmaj no one else can keep me from xxmaj the danger of myself xxmaj you keep me stronger xxmaj you are the only one xxmaj and now i love you even more xxmaj than i did before i ve got such a jealous side xxmaj reaching out i try to hide xxmaj my infant stride xxmaj and in my mind xxmaj this is all so prototype xxmaj make it wrong to make it feel right xxmaj do nt deny it xxmaj cause you are the only one xxmaj no one can keep me from xxmaj the danger i possess xxmaj you keep me stronger xxmaj you are the only one xxmaj and now i love you even more xxmaj than i did before xxmaj and when they make the call xxmaj for one last drink xxmaj when my selfesteem seems below xxmaj and when no one knows it xxmaj when the colors all collide inside xxmaj well i can barely hide xxmaj you are the only one xxmaj no one else can keep me from xxmaj the danger of myself xxmaj you keep me stronger xxmaj you are the only one xxmaj and now i love you even more xxmaj there is no other xxmaj no one else i place above you xxmaj you are the only one xxmaj and now i love you even more xxmaj than i did before,xxbos xxmaj one endless cold star xxmaj here i stand following xxmaj thy dark spirit thy faint light a path across my dreams xxmaj take me far into the unknown fly xxmaj over a desert a xxunk and dancing woods i storm the nocturnal sky xxmaj in the fiery chariots i ride xxmaj my dreams are like thy rays i see them sink into the sands of time and fade xxmaj my spirit is like thine xxmaj shows only its nightside xxmaj always strong and faithful and never fails xxmaj these snowy woods this frozen land xxmaj here i stand waiting xxmaj for thee to come to show thy face xxmaj over this land xxmaj once heathen once proud xxmaj in the xxunk xxmaj of the cold northern winter xxmaj in the snowy hills and dark woods xxmaj my heart is forged xxmaj and that ice will never melt,xxbos xxmaj delicate downfall xxmaj impetus so now fly xxmaj fu xxmaj sincerely begging your pardon in a solemn mood i proclaim my sorrow the answer to your dreams xxmaj my xxunk time is the xxunk time in ruins xxmaj compassion wreath of roses ecstasy xxmaj ck xxmaj sue for the passed moments the empire of rain i proclaim my sorrow the only distant place xxmaj my xxunk time is the xxunk time in ruins xxmaj reality drink the blood and weave all suffering xxmaj faith man is weak and so is love xxmaj dust memories are just blindest quests chains xxmaj aid the rebirth of sin will take us back xxmaj to the garden of loss xxmaj stand up what are we dying for xxmaj soulless figures crying with a smile xxmaj mysteries tears build up stairs xxmaj repeat fuck,xxbos stormy seas closing in american society will never be the same again do you remember what it means to be free do you remember when theft was the only threat to private property now the cops are xxunk on parade swat team nazi repo men machine guns and grenades martial law is coming in time the seizure of your home they need not charge you with a crime how can an american feel safe when police authority runs virtually unchecked and how can a human being ignore legislation that signals the cops declaring war on the private citizen there is a bill being discussed right now that would bring the army into the interior of our country and do you know where we d be then our every move observed by xxunk militia men machine guns on every corner and unbridled state of martial law its just a little too late to write your congressman justice for and by the people is long gone and you can smile xxunk about the rights that you still have but you re living in a dream just keep your tv watching jenny jones your fridge filled up with beer and you ll n ever even hear your neighbors scream until its you until its you,xxbos xxmaj nigger yeah xxmaj incomprehensible xxmaj do it do it xxmaj do it do it xxmaj incomprehensible xxmaj no i was lookin for affection so i decided to go xxmaj swing that up in my direction xxmaj ill be outta control xxmaj lets take it to perfection just you and me xxmaj lets see if you can bring bring bring the nasty out of me xxmaj len xxmaj len xxmaj len sock it xxmaj ooh ahh sock it to me like you want to xxmaj ooh ooh i can take it like a pro you know xxmaj move along pro with the backstroke xxmaj my hormones jumpin like a disco i be poppin mess like some xxmaj crisco xxmaj all you got ta say is where xxmaj missy go xxmaj and when you say go i wo nt move slow i m at your house around midnight do nt fall asleep xxmaj it ll just be me me me on a late night creep i m a show you things that you ca nt believe xxmaj jump in this b e d and wo nt you sock it 2 me xxmaj xxunk to me xxmaj ooh ahh sock it to me like you want to xxmaj ooh ooh i can take it like a pro you know xxmaj move along pro with the backstroke xxmaj my hormones jumpin like a disco i be poppin mess like some xxmaj crisco xxmaj and all you got ta say is where xxmaj missy go xxmaj and when you say go i wo nt move slow xxmaj ooh ahh sock it to me like you want to xxmaj ooh i can take it like a pro you know xxmaj move along pro with the backstroke xxmaj my hormones jumpin like a disco i be poppin mess like some xxmaj crisco xxmaj and all you got ta say is xxmaj missy go xxmaj and when you say go i wo nt move slow xxmaj yeah xxwrep 4 yeah xxmaj ooh ahh sock it to me like you want to xxmaj ooh ooh i can take it like a pro you know xxmaj move along pro with the backstroke xxmaj my hormones jumpin like a disco i be poppin mess like some xxmaj crisco xxmaj and all you got ta say is where xxmaj missy go xxmaj and when you say go i wo nt move slow xxmaj why xxmaj missy be sockin it to niggaz like xxmaj re xxmaj re xxmaj the baddest industry bitches of the century xxmaj hit hard like xxmaj xxunk did xxmaj finally admitted that we the shit combination on this lethal xxmaj poppin patron with xxmaj missy in the 600 with no see through xxmaj suffer the repercussion fuckin with shit like this xxmaj we call it puffing constantly makin niggas suffer the consequence xxmaj got ta get them ends bitch xxmaj house in the xxmaj chi with a xxmaj candy in xxmaj atlanta with a xxmaj benz xxmaj niggaz been huffin and puffin but ai nt try shit xxmaj got cream motherfuckers steady ride quick xxmaj besides kids wanna bust xxmaj but you should nt forget ends when you fuckin with me xxmaj jealous cause i live more flushed xxmaj me and xxmaj missy been livin with a headrush xxmaj bring the xxunk plus i m peddling and pushing picking up profits xxmaj for what i m sellin never gon na stop it xxmaj sockin it to niggaz they rockin it droppin em on the spot xxmaj heat up in the block around the shop xxmaj knockin you off of your socks xxmaj guaranteed platinum watch two of the coldest bitches get hot i be the b r a t her be xxmaj missy xxmaj we the bad bitches who be fuckin it up i be the b r a t her be xxmaj missy xxmaj we the bad bitches who be fuckin it up i m yo nigga for life baby xxmaj listen to ya we drive all these motherfuckers crazy xxmaj you know what i m sayin yeah xxmaj timbaland i see you baby i feel you xxmaj sock it to em xxunk xxmaj its 97 this the motherfuckin bitch era xxmaj what y all niggaz wanna do xxmaj the rattattat on that ass once more i m out the door motherfucker yeah\n",
              "y: CategoryList\n",
              "Pop,Metal,Metal,Rock,Hip-Hop\n",
              "Path: .;\n",
              "\n",
              "Test: None, model=SequentialRNN(\n",
              "  (0): MultiBatchEncoder(\n",
              "    (module): AWD_LSTM(\n",
              "      (encoder): Embedding(60000, 400, padding_idx=1)\n",
              "      (encoder_dp): EmbeddingDropout(\n",
              "        (emb): Embedding(60000, 400, padding_idx=1)\n",
              "      )\n",
              "      (rnns): ModuleList(\n",
              "        (0): WeightDropout(\n",
              "          (module): LSTM(400, 1152, batch_first=True)\n",
              "        )\n",
              "        (1): WeightDropout(\n",
              "          (module): LSTM(1152, 1152, batch_first=True)\n",
              "        )\n",
              "        (2): WeightDropout(\n",
              "          (module): LSTM(1152, 400, batch_first=True)\n",
              "        )\n",
              "      )\n",
              "      (input_dp): RNNDropout()\n",
              "      (hidden_dps): ModuleList(\n",
              "        (0): RNNDropout()\n",
              "        (1): RNNDropout()\n",
              "        (2): RNNDropout()\n",
              "      )\n",
              "    )\n",
              "  )\n",
              "  (1): PoolingLinearClassifier(\n",
              "    (layers): Sequential(\n",
              "      (0): BatchNorm1d(1200, eps=1e-05, momentum=0.1, affine=True, track_running_stats=True)\n",
              "      (1): Dropout(p=0.2, inplace=False)\n",
              "      (2): Linear(in_features=1200, out_features=50, bias=True)\n",
              "      (3): ReLU(inplace=True)\n",
              "      (4): BatchNorm1d(50, eps=1e-05, momentum=0.1, affine=True, track_running_stats=True)\n",
              "      (5): Dropout(p=0.1, inplace=False)\n",
              "      (6): Linear(in_features=50, out_features=5, bias=True)\n",
              "    )\n",
              "  )\n",
              "), opt_func=functools.partial(<class 'torch.optim.adam.Adam'>, betas=(0.9, 0.99)), loss_func=FlattenedLoss of CrossEntropyLoss(), metrics=[<function accuracy at 0x7f11e654dae8>], true_wd=True, bn_wd=True, wd=0.01, train_bn=True, path=PosixPath('.'), model_dir='models', callback_fns=[functools.partial(<class 'fastai.basic_train.Recorder'>, add_time=True, silent=False)], callbacks=[RNNTrainer\n",
              "learn: RNNLearner(data=TextClasDataBunch;\n",
              "\n",
              "Train: LabelList (42792 items)\n",
              "x: TextList\n",
              "xxbos xxmaj innocence smiles in the playground xxmaj as a grey man touches her hair sweets for a pretty girl xxmaj but she s not such a silly girl xxmaj as she slaps the hand away xxmaj poison on my plate so hungry i ate xxmaj poison on my plate so hungry i feel the steel inside xxmaj our mouths open wide xxmaj we sharpen our teeth and flexing our jaws xxmaj we bite the hand that feed us xxmaj he grows to be big and strong xxmaj eats the vegetables joins their family xxmaj the ignorance he found xxmaj helps the medicine go down xxmaj helps the stale untruths taste nicer xxmaj poison on my plate so hungry i ate xxmaj poison on my plate so hungry xxmaj the lies disguise wears thin xxmaj the fasting begins xxmaj the scraping of chairs cutlery screams xxmaj when may we leave the table,xxbos i do nt need a whole lotta money i do nt need a big fine car i got everything that a girl could want i got more than i could ask for i do nt have to run around i do nt have to stay out all night xxmaj cause i got a sweet sweet lovin man xxmaj and he knows just how to treat me right xxmaj see my baby he s alright xxmaj see my baby were so tight xxmaj do nt you know he is some kind of wonderful xxmaj yes he is xxmaj he s some kind of wonderful xxmaj do nt you know he is some kind of wonderful xxmaj let me tell you one more thing xxmaj now when he holds me in his arms xxmaj he sets my soul on fire xxmaj and ooh when my baby kisses me xxmaj my heart becomes filled with desire xxmaj when he wraps his loving arms around me xxmaj he almost drives me out of my mind i get these funny little feelings inside of me xxmaj chills run up and down my spine xxmaj my baby he s alright xxmaj me and my baby were so tight xxmaj do nt you know he is some kind of wonderful xxmaj yes he is xxmaj some kinda wonderful xxmaj he is some kind of wonderful xxmaj now hold on let me know just one more thing xxmaj is there anyone out there with a sweet loving man like mine xxmaj there s got to be somebody with a sweet loving man like mine xxmaj now tell me ladies xxmaj can i get a witness xxmaj can i get a witness up in here xxmaj ladies xxmaj can i get a witness xxmaj can i get a witness xxmaj can i get a witness xxmaj do you know what i m talkin about xxmaj ladies are you listening xxmaj can i get a witness xxmaj wonderful xxmaj some kinda wonderful xxmaj do nt you know he is xxmaj some kind of wonderful xxmaj do nt you know he is xxmaj some kind of wonderful xxmaj do nt you know he is xxmaj some kind of wonderful xxmaj he s some kind of wonderful xxmaj yes he is xxmaj do nt you know he is xxmaj some kind of wonderful xxmaj do nt you know he is xxmaj some kind of wonderful xxmaj do nt you know he is xxmaj some kind of wonderful xxmaj do nt you know he is xxmaj some kind of wonderful xxmaj do nt you know he is xxmaj some kind of wonderful xxmaj do nt you know he s some kind of wonderful xxmaj do nt you know he is i m talkin bout my baby yeah,xxbos i could be like you i could be alone and jaded xxmaj wondering what to do until they say i could be like you xxmaj angry and intoxicated xxmaj wondering what to do to make them pay xxmaj and will i find a way xxmaj can i make them see xxmaj and make them all believe you re wrong xxmaj your ill intentions do nt belong i hear you talk the talk xxmaj but i do nt see you walk the walk xxmaj and i still do nt believe a thing you say,xxbos xxmaj ribbon of darkness over me since my true love walked out the door xxmaj tears i never had before ribbon of darkness over me xxmaj cloudsre gathering oer my head they chill the day and hide the sun xxmaj and shroud the night when day is done ribbon of darkness over me xxmaj rain is fallin on the meadow where once my love and i did lie xxmaj now he is gone from the meadow my love goodbye xxmaj ribbon of darkness over me where once the world was young as spring xxmaj where cloudsre bloomin birds were would sing ribbon of darkness over me xxmaj in this cold room lying do nt wanna see no one but you xxmaj lord i wish i could be dying to forget you xxmaj how i wish your heart could see my mind just takes the breaks of day xxmaj come on back and take away ribbon of darkness over me xxmaj la da da da dee de dee la da da da dee de dee xxmaj hmm hmm hmm ribbon of darkness over me,xxbos a herd of wild horses a stampede of cows xxmaj the sheriffs department with a pack of bloodhounds xxmaj ai nt ever gon na move me away from your side i m off and running xxmaj ill be here forever now i ve made up my mind i d rather drive across xxmaj texas in a stolen car xxmaj with the rangers on my tail and no head start i d rather draw my last breath with a bullet in my heart xxmaj than ever drive away from you xxmaj ill never drive away from you xxmaj take the xxmaj wichita xxmaj river jumping in space xxmaj throw in a tornado and a couple of earthquakes xxmaj they just ai nt strong enough to pull us apart xxmaj you told me that you love me xxmaj nothings ever gon na drag me out of your arms i d rather drive across xxmaj texas in a stolen car xxmaj with the rangers on my tail and no head start i d rather draw my last breath with a bullet in my heart xxmaj than ever drive away from you xxmaj ill never drive away from you i d rather drive across xxmaj texas in a stolen car xxmaj with the rangers on my tail and no head start i d rather draw my last breath with a bullet in my heart xxmaj than ever drive away from you i d rather drive across xxmaj texas in a stolen car xxmaj with the rangers on my tail and no head start i d rather draw my last breath with a bullet in my heart xxmaj than ever drive away from you xxmaj no xxmaj ill never drive away i d rather draw my last breath with a bullet in my heart xxmaj than ever drive away from you\n",
              "y: CategoryList\n",
              "Rock,Pop,Rock,Country,Country\n",
              "Path: .;\n",
              "\n",
              "Valid: LabelList (10620 items)\n",
              "x: TextList\n",
              "xxbos xxmaj in a world so cynical xxmaj you came in and changed the ball xxmaj from black to white xxmaj and made me right xxmaj this is all atypical xxmaj no one else has had the time xxmaj to read the signs xxmaj you are the only one xxmaj no one else can keep me from xxmaj the danger of myself xxmaj you keep me stronger xxmaj you are the only one xxmaj and now i love you even more xxmaj than i did before i ve got such a jealous side xxmaj reaching out i try to hide xxmaj my infant stride xxmaj and in my mind xxmaj this is all so prototype xxmaj make it wrong to make it feel right xxmaj do nt deny it xxmaj cause you are the only one xxmaj no one can keep me from xxmaj the danger i possess xxmaj you keep me stronger xxmaj you are the only one xxmaj and now i love you even more xxmaj than i did before xxmaj and when they make the call xxmaj for one last drink xxmaj when my selfesteem seems below xxmaj and when no one knows it xxmaj when the colors all collide inside xxmaj well i can barely hide xxmaj you are the only one xxmaj no one else can keep me from xxmaj the danger of myself xxmaj you keep me stronger xxmaj you are the only one xxmaj and now i love you even more xxmaj there is no other xxmaj no one else i place above you xxmaj you are the only one xxmaj and now i love you even more xxmaj than i did before,xxbos xxmaj one endless cold star xxmaj here i stand following xxmaj thy dark spirit thy faint light a path across my dreams xxmaj take me far into the unknown fly xxmaj over a desert a xxunk and dancing woods i storm the nocturnal sky xxmaj in the fiery chariots i ride xxmaj my dreams are like thy rays i see them sink into the sands of time and fade xxmaj my spirit is like thine xxmaj shows only its nightside xxmaj always strong and faithful and never fails xxmaj these snowy woods this frozen land xxmaj here i stand waiting xxmaj for thee to come to show thy face xxmaj over this land xxmaj once heathen once proud xxmaj in the xxunk xxmaj of the cold northern winter xxmaj in the snowy hills and dark woods xxmaj my heart is forged xxmaj and that ice will never melt,xxbos xxmaj delicate downfall xxmaj impetus so now fly xxmaj fu xxmaj sincerely begging your pardon in a solemn mood i proclaim my sorrow the answer to your dreams xxmaj my xxunk time is the xxunk time in ruins xxmaj compassion wreath of roses ecstasy xxmaj ck xxmaj sue for the passed moments the empire of rain i proclaim my sorrow the only distant place xxmaj my xxunk time is the xxunk time in ruins xxmaj reality drink the blood and weave all suffering xxmaj faith man is weak and so is love xxmaj dust memories are just blindest quests chains xxmaj aid the rebirth of sin will take us back xxmaj to the garden of loss xxmaj stand up what are we dying for xxmaj soulless figures crying with a smile xxmaj mysteries tears build up stairs xxmaj repeat fuck,xxbos stormy seas closing in american society will never be the same again do you remember what it means to be free do you remember when theft was the only threat to private property now the cops are xxunk on parade swat team nazi repo men machine guns and grenades martial law is coming in time the seizure of your home they need not charge you with a crime how can an american feel safe when police authority runs virtually unchecked and how can a human being ignore legislation that signals the cops declaring war on the private citizen there is a bill being discussed right now that would bring the army into the interior of our country and do you know where we d be then our every move observed by xxunk militia men machine guns on every corner and unbridled state of martial law its just a little too late to write your congressman justice for and by the people is long gone and you can smile xxunk about the rights that you still have but you re living in a dream just keep your tv watching jenny jones your fridge filled up with beer and you ll n ever even hear your neighbors scream until its you until its you,xxbos xxmaj nigger yeah xxmaj incomprehensible xxmaj do it do it xxmaj do it do it xxmaj incomprehensible xxmaj no i was lookin for affection so i decided to go xxmaj swing that up in my direction xxmaj ill be outta control xxmaj lets take it to perfection just you and me xxmaj lets see if you can bring bring bring the nasty out of me xxmaj len xxmaj len xxmaj len sock it xxmaj ooh ahh sock it to me like you want to xxmaj ooh ooh i can take it like a pro you know xxmaj move along pro with the backstroke xxmaj my hormones jumpin like a disco i be poppin mess like some xxmaj crisco xxmaj all you got ta say is where xxmaj missy go xxmaj and when you say go i wo nt move slow i m at your house around midnight do nt fall asleep xxmaj it ll just be me me me on a late night creep i m a show you things that you ca nt believe xxmaj jump in this b e d and wo nt you sock it 2 me xxmaj xxunk to me xxmaj ooh ahh sock it to me like you want to xxmaj ooh ooh i can take it like a pro you know xxmaj move along pro with the backstroke xxmaj my hormones jumpin like a disco i be poppin mess like some xxmaj crisco xxmaj and all you got ta say is where xxmaj missy go xxmaj and when you say go i wo nt move slow xxmaj ooh ahh sock it to me like you want to xxmaj ooh i can take it like a pro you know xxmaj move along pro with the backstroke xxmaj my hormones jumpin like a disco i be poppin mess like some xxmaj crisco xxmaj and all you got ta say is xxmaj missy go xxmaj and when you say go i wo nt move slow xxmaj yeah xxwrep 4 yeah xxmaj ooh ahh sock it to me like you want to xxmaj ooh ooh i can take it like a pro you know xxmaj move along pro with the backstroke xxmaj my hormones jumpin like a disco i be poppin mess like some xxmaj crisco xxmaj and all you got ta say is where xxmaj missy go xxmaj and when you say go i wo nt move slow xxmaj why xxmaj missy be sockin it to niggaz like xxmaj re xxmaj re xxmaj the baddest industry bitches of the century xxmaj hit hard like xxmaj xxunk did xxmaj finally admitted that we the shit combination on this lethal xxmaj poppin patron with xxmaj missy in the 600 with no see through xxmaj suffer the repercussion fuckin with shit like this xxmaj we call it puffing constantly makin niggas suffer the consequence xxmaj got ta get them ends bitch xxmaj house in the xxmaj chi with a xxmaj candy in xxmaj atlanta with a xxmaj benz xxmaj niggaz been huffin and puffin but ai nt try shit xxmaj got cream motherfuckers steady ride quick xxmaj besides kids wanna bust xxmaj but you should nt forget ends when you fuckin with me xxmaj jealous cause i live more flushed xxmaj me and xxmaj missy been livin with a headrush xxmaj bring the xxunk plus i m peddling and pushing picking up profits xxmaj for what i m sellin never gon na stop it xxmaj sockin it to niggaz they rockin it droppin em on the spot xxmaj heat up in the block around the shop xxmaj knockin you off of your socks xxmaj guaranteed platinum watch two of the coldest bitches get hot i be the b r a t her be xxmaj missy xxmaj we the bad bitches who be fuckin it up i be the b r a t her be xxmaj missy xxmaj we the bad bitches who be fuckin it up i m yo nigga for life baby xxmaj listen to ya we drive all these motherfuckers crazy xxmaj you know what i m sayin yeah xxmaj timbaland i see you baby i feel you xxmaj sock it to em xxunk xxmaj its 97 this the motherfuckin bitch era xxmaj what y all niggaz wanna do xxmaj the rattattat on that ass once more i m out the door motherfucker yeah\n",
              "y: CategoryList\n",
              "Pop,Metal,Metal,Rock,Hip-Hop\n",
              "Path: .;\n",
              "\n",
              "Test: None, model=SequentialRNN(\n",
              "  (0): MultiBatchEncoder(\n",
              "    (module): AWD_LSTM(\n",
              "      (encoder): Embedding(60000, 400, padding_idx=1)\n",
              "      (encoder_dp): EmbeddingDropout(\n",
              "        (emb): Embedding(60000, 400, padding_idx=1)\n",
              "      )\n",
              "      (rnns): ModuleList(\n",
              "        (0): WeightDropout(\n",
              "          (module): LSTM(400, 1152, batch_first=True)\n",
              "        )\n",
              "        (1): WeightDropout(\n",
              "          (module): LSTM(1152, 1152, batch_first=True)\n",
              "        )\n",
              "        (2): WeightDropout(\n",
              "          (module): LSTM(1152, 400, batch_first=True)\n",
              "        )\n",
              "      )\n",
              "      (input_dp): RNNDropout()\n",
              "      (hidden_dps): ModuleList(\n",
              "        (0): RNNDropout()\n",
              "        (1): RNNDropout()\n",
              "        (2): RNNDropout()\n",
              "      )\n",
              "    )\n",
              "  )\n",
              "  (1): PoolingLinearClassifier(\n",
              "    (layers): Sequential(\n",
              "      (0): BatchNorm1d(1200, eps=1e-05, momentum=0.1, affine=True, track_running_stats=True)\n",
              "      (1): Dropout(p=0.2, inplace=False)\n",
              "      (2): Linear(in_features=1200, out_features=50, bias=True)\n",
              "      (3): ReLU(inplace=True)\n",
              "      (4): BatchNorm1d(50, eps=1e-05, momentum=0.1, affine=True, track_running_stats=True)\n",
              "      (5): Dropout(p=0.1, inplace=False)\n",
              "      (6): Linear(in_features=50, out_features=5, bias=True)\n",
              "    )\n",
              "  )\n",
              "), opt_func=functools.partial(<class 'torch.optim.adam.Adam'>, betas=(0.9, 0.99)), loss_func=FlattenedLoss of CrossEntropyLoss(), metrics=[<function accuracy at 0x7f11e654dae8>], true_wd=True, bn_wd=True, wd=0.01, train_bn=True, path=PosixPath('.'), model_dir='models', callback_fns=[functools.partial(<class 'fastai.basic_train.Recorder'>, add_time=True, silent=False)], callbacks=[...], layer_groups=[Sequential(\n",
              "  (0): Embedding(60000, 400, padding_idx=1)\n",
              "  (1): EmbeddingDropout(\n",
              "    (emb): Embedding(60000, 400, padding_idx=1)\n",
              "  )\n",
              "), Sequential(\n",
              "  (0): WeightDropout(\n",
              "    (module): LSTM(400, 1152, batch_first=True)\n",
              "  )\n",
              "  (1): RNNDropout()\n",
              "), Sequential(\n",
              "  (0): WeightDropout(\n",
              "    (module): LSTM(1152, 1152, batch_first=True)\n",
              "  )\n",
              "  (1): RNNDropout()\n",
              "), Sequential(\n",
              "  (0): WeightDropout(\n",
              "    (module): LSTM(1152, 400, batch_first=True)\n",
              "  )\n",
              "  (1): RNNDropout()\n",
              "), Sequential(\n",
              "  (0): PoolingLinearClassifier(\n",
              "    (layers): Sequential(\n",
              "      (0): BatchNorm1d(1200, eps=1e-05, momentum=0.1, affine=True, track_running_stats=True)\n",
              "      (1): Dropout(p=0.2, inplace=False)\n",
              "      (2): Linear(in_features=1200, out_features=50, bias=True)\n",
              "      (3): ReLU(inplace=True)\n",
              "      (4): BatchNorm1d(50, eps=1e-05, momentum=0.1, affine=True, track_running_stats=True)\n",
              "      (5): Dropout(p=0.1, inplace=False)\n",
              "      (6): Linear(in_features=50, out_features=5, bias=True)\n",
              "    )\n",
              "  )\n",
              ")], add_time=True, silent=False)\n",
              "alpha: 2.0\n",
              "beta: 1.0], layer_groups=[Sequential(\n",
              "  (0): Embedding(60000, 400, padding_idx=1)\n",
              "  (1): EmbeddingDropout(\n",
              "    (emb): Embedding(60000, 400, padding_idx=1)\n",
              "  )\n",
              "), Sequential(\n",
              "  (0): WeightDropout(\n",
              "    (module): LSTM(400, 1152, batch_first=True)\n",
              "  )\n",
              "  (1): RNNDropout()\n",
              "), Sequential(\n",
              "  (0): WeightDropout(\n",
              "    (module): LSTM(1152, 1152, batch_first=True)\n",
              "  )\n",
              "  (1): RNNDropout()\n",
              "), Sequential(\n",
              "  (0): WeightDropout(\n",
              "    (module): LSTM(1152, 400, batch_first=True)\n",
              "  )\n",
              "  (1): RNNDropout()\n",
              "), Sequential(\n",
              "  (0): PoolingLinearClassifier(\n",
              "    (layers): Sequential(\n",
              "      (0): BatchNorm1d(1200, eps=1e-05, momentum=0.1, affine=True, track_running_stats=True)\n",
              "      (1): Dropout(p=0.2, inplace=False)\n",
              "      (2): Linear(in_features=1200, out_features=50, bias=True)\n",
              "      (3): ReLU(inplace=True)\n",
              "      (4): BatchNorm1d(50, eps=1e-05, momentum=0.1, affine=True, track_running_stats=True)\n",
              "      (5): Dropout(p=0.1, inplace=False)\n",
              "      (6): Linear(in_features=50, out_features=5, bias=True)\n",
              "    )\n",
              "  )\n",
              ")], add_time=True, silent=False)"
            ]
          },
          "metadata": {
            "tags": []
          },
          "execution_count": 20
        }
      ]
    },
    {
      "cell_type": "code",
      "metadata": {
        "id": "scidgRaqGlq4",
        "colab_type": "code",
        "outputId": "99c3bfa2-8013-42fb-e866-0ffdd7030c8e",
        "colab": {
          "base_uri": "https://localhost:8080/",
          "height": 289
        }
      },
      "source": [
        "data2.show_batch()"
      ],
      "execution_count": 0,
      "outputs": [
        {
          "output_type": "display_data",
          "data": {
            "text/html": [
              "<table border=\"1\" class=\"dataframe\">\n",
              "  <thead>\n",
              "    <tr style=\"text-align: right;\">\n",
              "      <th>text</th>\n",
              "      <th>target</th>\n",
              "    </tr>\n",
              "  </thead>\n",
              "  <tbody>\n",
              "    <tr>\n",
              "      <td>xxbos xxmaj we xxmaj xxunk xxmaj to xxmaj take xxmaj dis xxmaj thing xxmaj to xxmaj another xxmaj level xxmaj ya xxmaj herd xxmaj me xxmaj all xxmaj the xxmaj ladies xxmaj come xxmaj to xxmaj the xxmaj front xxmaj all xxmaj the xxmaj hatas xxmaj get xxmaj out xxmaj da xxmaj building xxmaj ya xxmaj hear xxmaj me xxmaj chorus xxmaj slim xxmaj laid xxmaj back xxmaj in xxmaj</td>\n",
              "      <td>Hip-Hop</td>\n",
              "    </tr>\n",
              "    <tr>\n",
              "      <td>xxbos xxmaj chorus i try and try to stay in love xxmaj but no matter what i do xxmaj it just ai nt enough xxmaj it ai nt enough xxmaj it ai nt enough xxmaj it ai nt enough xxmaj you say it ai nt enough xxmaj and everytime i think its love xxmaj it just ai nt good enough xxmaj and we breakin up xxmaj we breakin up xxmaj</td>\n",
              "      <td>Hip-Hop</td>\n",
              "    </tr>\n",
              "    <tr>\n",
              "      <td>xxbos xxmaj have you ever in your life experienced a day xxmaj where nothing at all seems to go your way xxmaj no matter how hard you try to get out of the rut xxmaj you just could not break the string of bad luck a day where xxmaj murphys law takes over your life xxmaj and you just ca nt seem to do a darn thing right xxmaj and</td>\n",
              "      <td>Hip-Hop</td>\n",
              "    </tr>\n",
              "    <tr>\n",
              "      <td>xxbos xxmaj excuse me girl i do nt mean to bud in xxmaj and i ai nt trynna make a scene and nuthin xxmaj but you got a face i done seen in magazines and somethin xxmaj kinda xxmaj legs that the models be seen them struttin some pretty brown eyes and i seen them cuttin xxmaj in my direction but i mean its nuthin xxmaj if you have another</td>\n",
              "      <td>Hip-Hop</td>\n",
              "    </tr>\n",
              "    <tr>\n",
              "      <td>xxbos intro buddha monk xxmaj allah is god we came here to travel xxmaj and speak the truth to those who do not know themselves xxmaj we do the knowledge to everythin in our existence xxmaj and expense forth the truth if you xxunk stand on your xxmaj own two feet what must be done nothin you shall die xxmaj in your own inequity i want y all to feel</td>\n",
              "      <td>Hip-Hop</td>\n",
              "    </tr>\n",
              "  </tbody>\n",
              "</table>"
            ],
            "text/plain": [
              "<IPython.core.display.HTML object>"
            ]
          },
          "metadata": {
            "tags": []
          }
        }
      ]
    },
    {
      "cell_type": "code",
      "metadata": {
        "id": "QErJ-fovGqQJ",
        "colab_type": "code",
        "outputId": "040364d5-afa1-4cbf-98eb-f25feaf247a7",
        "colab": {
          "base_uri": "https://localhost:8080/",
          "height": 80
        }
      },
      "source": [
        "learn2.fit_one_cycle(1, 1e-2)"
      ],
      "execution_count": 0,
      "outputs": [
        {
          "output_type": "display_data",
          "data": {
            "text/html": [
              "<table border=\"1\" class=\"dataframe\">\n",
              "  <thead>\n",
              "    <tr style=\"text-align: left;\">\n",
              "      <th>epoch</th>\n",
              "      <th>train_loss</th>\n",
              "      <th>valid_loss</th>\n",
              "      <th>accuracy</th>\n",
              "      <th>time</th>\n",
              "    </tr>\n",
              "  </thead>\n",
              "  <tbody>\n",
              "    <tr>\n",
              "      <td>0</td>\n",
              "      <td>1.075428</td>\n",
              "      <td>0.915585</td>\n",
              "      <td>0.642279</td>\n",
              "      <td>09:28</td>\n",
              "    </tr>\n",
              "  </tbody>\n",
              "</table>"
            ],
            "text/plain": [
              "<IPython.core.display.HTML object>"
            ]
          },
          "metadata": {
            "tags": []
          }
        }
      ]
    },
    {
      "cell_type": "code",
      "metadata": {
        "id": "lYvJf_p0LoKn",
        "colab_type": "code",
        "outputId": "0f152dee-2ded-4ecb-f0b7-8e0f2ad0ef4c",
        "colab": {
          "base_uri": "https://localhost:8080/",
          "height": 80
        }
      },
      "source": [
        "learn2.freeze_to(-2)\n",
        "learn2.fit_one_cycle(1, slice(5e-3/2., 5e-3))"
      ],
      "execution_count": 0,
      "outputs": [
        {
          "output_type": "display_data",
          "data": {
            "text/html": [
              "<table border=\"1\" class=\"dataframe\">\n",
              "  <thead>\n",
              "    <tr style=\"text-align: left;\">\n",
              "      <th>epoch</th>\n",
              "      <th>train_loss</th>\n",
              "      <th>valid_loss</th>\n",
              "      <th>accuracy</th>\n",
              "      <th>time</th>\n",
              "    </tr>\n",
              "  </thead>\n",
              "  <tbody>\n",
              "    <tr>\n",
              "      <td>0</td>\n",
              "      <td>0.964418</td>\n",
              "      <td>0.872391</td>\n",
              "      <td>0.663277</td>\n",
              "      <td>10:49</td>\n",
              "    </tr>\n",
              "  </tbody>\n",
              "</table>"
            ],
            "text/plain": [
              "<IPython.core.display.HTML object>"
            ]
          },
          "metadata": {
            "tags": []
          }
        }
      ]
    },
    {
      "cell_type": "code",
      "metadata": {
        "id": "xGmzbB_fLyk_",
        "colab_type": "code",
        "outputId": "bce4714c-c556-4a15-dd9f-c2c29ff12c9e",
        "colab": {
          "base_uri": "https://localhost:8080/",
          "height": 80
        }
      },
      "source": [
        "learn2.unfreeze()\n",
        "learn2.fit_one_cycle(1, slice(2e-3/100, 2e-3))"
      ],
      "execution_count": 0,
      "outputs": [
        {
          "output_type": "display_data",
          "data": {
            "text/html": [
              "<table border=\"1\" class=\"dataframe\">\n",
              "  <thead>\n",
              "    <tr style=\"text-align: left;\">\n",
              "      <th>epoch</th>\n",
              "      <th>train_loss</th>\n",
              "      <th>valid_loss</th>\n",
              "      <th>accuracy</th>\n",
              "      <th>time</th>\n",
              "    </tr>\n",
              "  </thead>\n",
              "  <tbody>\n",
              "    <tr>\n",
              "      <td>0</td>\n",
              "      <td>0.945841</td>\n",
              "      <td>0.840963</td>\n",
              "      <td>0.675235</td>\n",
              "      <td>17:34</td>\n",
              "    </tr>\n",
              "  </tbody>\n",
              "</table>"
            ],
            "text/plain": [
              "<IPython.core.display.HTML object>"
            ]
          },
          "metadata": {
            "tags": []
          }
        }
      ]
    },
    {
      "cell_type": "code",
      "metadata": {
        "id": "9wlJaEN2lCoe",
        "colab_type": "code",
        "outputId": "464f832f-6d1f-468e-e684-2f5b2fc46a60",
        "colab": {
          "base_uri": "https://localhost:8080/",
          "height": 17
        }
      },
      "source": [
        "interp2 = ClassificationInterpretation.from_learner(learn2)"
      ],
      "execution_count": 0,
      "outputs": [
        {
          "output_type": "display_data",
          "data": {
            "text/html": [
              ""
            ],
            "text/plain": [
              "<IPython.core.display.HTML object>"
            ]
          },
          "metadata": {
            "tags": []
          }
        }
      ]
    },
    {
      "cell_type": "code",
      "metadata": {
        "id": "bJ6YC7RKmw5I",
        "colab_type": "code",
        "outputId": "6c854e8a-c5a0-4570-e305-af13f76fcc3c",
        "colab": {
          "base_uri": "https://localhost:8080/",
          "height": 357
        }
      },
      "source": [
        "interp2.most_confused(slice_size=10)"
      ],
      "execution_count": 0,
      "outputs": [
        {
          "output_type": "execute_result",
          "data": {
            "text/plain": [
              "[('Pop', 'Rock', 446),\n",
              " ('Rock', 'Pop', 398),\n",
              " ('Rock', 'Country', 382),\n",
              " ('Metal', 'Rock', 314),\n",
              " ('Pop', 'Country', 303),\n",
              " ('Rock', 'Metal', 272),\n",
              " ('Country', 'Rock', 248),\n",
              " ('Hip-Hop', 'Pop', 184),\n",
              " ('Pop', 'Hip-Hop', 175),\n",
              " ('Country', 'Pop', 166),\n",
              " ('Metal', 'Pop', 108),\n",
              " ('Pop', 'Metal', 87),\n",
              " ('Hip-Hop', 'Rock', 73),\n",
              " ('Metal', 'Hip-Hop', 70),\n",
              " ('Rock', 'Hip-Hop', 59),\n",
              " ('Metal', 'Country', 40),\n",
              " ('Hip-Hop', 'Country', 36),\n",
              " ('Country', 'Metal', 33),\n",
              " ('Hip-Hop', 'Metal', 31),\n",
              " ('Country', 'Hip-Hop', 24)]"
            ]
          },
          "metadata": {
            "tags": []
          },
          "execution_count": 27
        }
      ]
    },
    {
      "cell_type": "code",
      "metadata": {
        "id": "kooqZ1A_nAP3",
        "colab_type": "code",
        "outputId": "75ce3109-c581-4e69-a6af-e741769798ef",
        "colab": {
          "base_uri": "https://localhost:8080/",
          "height": 311
        }
      },
      "source": [
        "interp2.plot_confusion_matrix()"
      ],
      "execution_count": 0,
      "outputs": [
        {
          "output_type": "display_data",
          "data": {
            "image/png": "[encoded data removed]",
            "text/plain": [
              "<Figure size 432x288 with 1 Axes>"
            ]
          },
          "metadata": {
            "tags": []
          }
        }
      ]
    },
    {
      "cell_type": "code",
      "metadata": {
        "id": "Od4keoMuw5hP",
        "colab_type": "code",
        "outputId": "b6cf5e9d-21c0-4924-aea8-15464bee8262",
        "colab": {
          "base_uri": "https://localhost:8080/",
          "height": 34
        }
      },
      "source": [
        "lyric = \"MidnightYou come and pick me up, no headlights Long driv Could end in burning flames or paradise Fade into view, oh It's been a while since I have even heard from you And I should just tell you to leave, 'cause I Know exactly where it leads, but I Watch us go 'round and 'round each time You got that James Dean daydream look in your eye And I got that red lip classic thing that you like And when we go crashing down, we come back every time 'Cause we never go out of style, we never go out of style You got that long hair, slicked back, white t-shirt And I got that good girl faith and a tight little skirt And when we go crashing down, we come back every time 'Cause we never go out of style, we never go out of style\"\n",
        "print(str(learn2.predict(lyric)[0]))"
      ],
      "execution_count": 0,
      "outputs": [
        {
          "output_type": "stream",
          "text": [
            "Hip-Hop\n"
          ],
          "name": "stdout"
        }
      ]
    },
    {
      "cell_type": "code",
      "metadata": {
        "id": "mGejPmu-jj0Z",
        "colab_type": "code",
        "colab": {}
      },
      "source": [
        "for index, row in test.iterrows():\n",
        "  test.at[index,'predicted'] = str(learn2.predict(row.lyrics)[0])"
      ],
      "execution_count": 0,
      "outputs": []
    },
    {
      "cell_type": "code",
      "metadata": {
        "id": "OelbCj5v1V_k",
        "colab_type": "code",
        "outputId": "0bde8673-181b-4059-bbfb-9f433f1d30b6",
        "colab": {
          "base_uri": "https://localhost:8080/",
          "height": 51
        }
      },
      "source": [
        "seriesObj = test.apply(lambda x: True if x['predicted'] == x['genre'] else False , axis=1)\n",
        "# Count number of True in series\n",
        "numOfRows = len(seriesObj[seriesObj == True].index)\n",
        "\n",
        "print(\"There are \"+str(numOfRows)+\" correctly identified songs.\")\n",
        "print(\"Accuracy: \"+str(numOfRows/float(len(test))))"
      ],
      "execution_count": 0,
      "outputs": [
        {
          "output_type": "stream",
          "text": [
            "There are 9073 correctly identified songs.\n",
            "Accuracy: 0.6794727776529619\n"
          ],
          "name": "stdout"
        }
      ]
    },
    {
      "cell_type": "code",
      "metadata": {
        "id": "aQgWnrBgPlet",
        "colab_type": "code",
        "outputId": "7a2715e8-1df7-4e67-f6e3-2caef9df6898",
        "colab": {
          "base_uri": "https://localhost:8080/",
          "height": 34
        }
      },
      "source": [
        "pip install palettable"
      ],
      "execution_count": 0,
      "outputs": [
        {
          "output_type": "stream",
          "text": [
            "Requirement already satisfied: palettable in /usr/local/lib/python3.6/dist-packages (3.3.0)\n"
          ],
          "name": "stdout"
        }
      ]
    },
    {
      "cell_type": "code",
      "metadata": {
        "id": "qRMg1bdQ364B",
        "colab_type": "code",
        "outputId": "18ad4b53-f829-40c7-b26b-087136e4e215",
        "colab": {
          "base_uri": "https://localhost:8080/",
          "height": 351
        }
      },
      "source": [
        "from sklearn.metrics import confusion_matrix\n",
        "import seaborn as sn\n",
        "from palettable.colorbrewer.sequential import YlOrBr_4\n",
        "from matplotlib.colors import ListedColormap\n",
        "import palettable\n",
        "\n",
        "# test = pd.read_csv(\"predictFINAL.csv\", engine='python', error_bad_lines=False, encoding='utf-8')\n",
        "arr_actual = test['genre'].astype(str).values.tolist()\n",
        "arr_predicted = test['predicted'].astype(str).values.tolist()\n",
        "\n",
        "# confusion_matrix(arr_actual, arr_predicted)\n",
        "y_actu = pd.Series(arr_actual, name='Actual')\n",
        "y_pred = pd.Series(arr_predicted, name='Predicted')\n",
        "df_confusion = pd.crosstab(test['genre'], test['predicted'], rownames=['Actual'], colnames=['Predicted'])\n",
        "plt.figure(figsize = (6,5))\n",
        "cmap = ListedColormap(palettable.colorbrewer.sequential.YlOrBr_4.mpl_colors)\n",
        "sn.heatmap(df_confusion, annot=True, fmt='g', cmap=cmap,)"
      ],
      "execution_count": 0,
      "outputs": [
        {
          "output_type": "execute_result",
          "data": {
            "text/plain": [
              "<matplotlib.axes._subplots.AxesSubplot at 0x7f11e2f5fdd8>"
            ]
          },
          "metadata": {
            "tags": []
          },
          "execution_count": 140
        },
        {
          "output_type": "display_data",
          "data": {
            "image/png": "[encoded data removed]",
            "text/plain": [
              "<Figure size 432x360 with 2 Axes>"
            ]
          },
          "metadata": {
            "tags": []
          }
        }
      ]
    },
    {
      "cell_type": "code",
      "metadata": {
        "id": "AiBTKbRWBq0v",
        "colab_type": "code",
        "colab": {}
      },
      "source": [
        "test.to_csv(\"predict.csv\", encoding='utf-8')"
      ],
      "execution_count": 0,
      "outputs": []
    },
    {
      "cell_type": "code",
      "metadata": {
        "id": "tHG2wO4rqYzX",
        "colab_type": "code",
        "outputId": "78b5123f-14ae-4e22-8cd8-e704f74d487f",
        "colab": {
          "base_uri": "https://localhost:8080/",
          "height": 612
        }
      },
      "source": [
        "## Tim's code for Naive Bayes, Logistic Regression, KNN, SVC\n",
        "import pandas as pd\n",
        "import nltk\n",
        "nltk.download('stopwords')\n",
        "nltk.download('wordnet')\n",
        "from sklearn.naive_bayes import MultinomialNB\n",
        "from sklearn.preprocessing import MultiLabelBinarizer\n",
        "from nltk.corpus import stopwords\n",
        "from sklearn.feature_extraction.text import TfidfVectorizer\n",
        "from gensim.models import Word2Vec\n",
        "from sklearn.model_selection import train_test_split\n",
        "from nltk.stem import WordNetLemmatizer\n",
        "from sklearn.neighbors import KNeighborsClassifier\n",
        "from sklearn.metrics import confusion_matrix\n",
        "from sklearn.linear_model import LogisticRegression\n",
        "from sklearn.svm import LinearSVC\n",
        "import seaborn as sn\n",
        "\n",
        "lemmatizer = WordNetLemmatizer()\n",
        "stop = set(stopwords.words('english'))\n",
        "\n",
        "lyrics = []\n",
        "genre = []\n",
        "songList = pd.read_csv(\"balanced.csv\", engine='python', error_bad_lines=False, encoding='utf-8')\n",
        "for row in songList.itertuples():\n",
        "    tlyrics = \" \".join([lemmatizer.lemmatize(x.lower()) for x in row.lyrics.split() if x not in stop])\n",
        "\n",
        "    lyrics.append(tlyrics)\n",
        "    genre.append(row.genre)\n",
        "\n",
        "tfidf_vectorizer = TfidfVectorizer( max_features=10000)\n",
        "x = tfidf_vectorizer.fit_transform(lyrics)\n",
        "\n",
        "xtrain, xval, ytrain, yval = train_test_split(x, genre, test_size=0.2, random_state=9)\n",
        "#y = multilabel_binarizer.inverse_transform(songList['genre'])\n",
        "#print(x.shape)\n",
        "#print(y)\n",
        "knn = KNeighborsClassifier(n_neighbors=30)\n",
        "knn.fit(xtrain,ytrain)\n",
        "nb = MultinomialNB()\n",
        "nb.fit(xtrain,ytrain)\n",
        "lg = LogisticRegression()\n",
        "lg.fit(xtrain,ytrain)\n",
        "pred = lg.predict(xval)\n",
        "svm = LinearSVC()\n",
        "svm.fit(xtrain,ytrain)\n",
        "\n",
        "a = list(set(genre))\n",
        "print(a)\n",
        "print(confusion_matrix(yval,pred,labels= a))\n",
        "df_confusion = pd.crosstab(yval, pred, rownames=['Actual'], colnames=['Predicted'])\n",
        "plt.figure(figsize = (6,5))\n",
        "sn.heatmap(df_confusion, annot=True, fmt='g', cmap='Blues')\n",
        "print(\"nb:\",nb.score(xval,yval))\n",
        "print(\"knn:\",knn.score(xval,yval))\n",
        "print(\"lg:\",lg.score(xval,yval))\n",
        "print(\"svm:\",svm.score(xval,yval))"
      ],
      "execution_count": 0,
      "outputs": [
        {
          "output_type": "stream",
          "text": [
            "[nltk_data] Downloading package stopwords to /root/nltk_data...\n",
            "[nltk_data]   Package stopwords is already up-to-date!\n",
            "[nltk_data] Downloading package wordnet to /root/nltk_data...\n",
            "[nltk_data]   Package wordnet is already up-to-date!\n"
          ],
          "name": "stdout"
        },
        {
          "output_type": "stream",
          "text": [
            "/usr/local/lib/python3.6/dist-packages/sklearn/linear_model/logistic.py:432: FutureWarning: Default solver will be changed to 'lbfgs' in 0.22. Specify a solver to silence this warning.\n",
            "  FutureWarning)\n",
            "/usr/local/lib/python3.6/dist-packages/sklearn/linear_model/logistic.py:469: FutureWarning: Default multi_class will be changed to 'auto' in 0.22. Specify the multi_class option to silence this warning.\n",
            "  \"this warning.\", FutureWarning)\n"
          ],
          "name": "stderr"
        },
        {
          "output_type": "stream",
          "text": [
            "['Pop', 'Hip-Hop', 'Country', 'Rock', 'Metal']\n",
            "[[1355  185  375  583  190]\n",
            " [ 217 2180   54  110   80]\n",
            " [ 347   24 1935  278   64]\n",
            " [ 594   68  508 1072  460]\n",
            " [ 163   61   67  273 2110]]\n"
          ],
          "name": "stdout"
        },
        {
          "output_type": "error",
          "ename": "AssertionError",
          "evalue": "ignored",
          "traceback": [
            "\u001b[0;31m---------------------------------------------------------------------------\u001b[0m",
            "\u001b[0;31mAssertionError\u001b[0m                            Traceback (most recent call last)",
            "\u001b[0;32m<ipython-input-87-e7e7aa558b7d>\u001b[0m in \u001b[0;36m<module>\u001b[0;34m()\u001b[0m\n\u001b[1;32m     51\u001b[0m \u001b[0mprint\u001b[0m\u001b[0;34m(\u001b[0m\u001b[0ma\u001b[0m\u001b[0;34m)\u001b[0m\u001b[0;34m\u001b[0m\u001b[0;34m\u001b[0m\u001b[0m\n\u001b[1;32m     52\u001b[0m \u001b[0mprint\u001b[0m\u001b[0;34m(\u001b[0m\u001b[0mconfusion_matrix\u001b[0m\u001b[0;34m(\u001b[0m\u001b[0myval\u001b[0m\u001b[0;34m,\u001b[0m\u001b[0mpred\u001b[0m\u001b[0;34m,\u001b[0m\u001b[0mlabels\u001b[0m\u001b[0;34m=\u001b[0m \u001b[0ma\u001b[0m\u001b[0;34m)\u001b[0m\u001b[0;34m)\u001b[0m\u001b[0;34m\u001b[0m\u001b[0;34m\u001b[0m\u001b[0m\n\u001b[0;32m---> 53\u001b[0;31m \u001b[0mdf_confusion\u001b[0m \u001b[0;34m=\u001b[0m \u001b[0mpd\u001b[0m\u001b[0;34m.\u001b[0m\u001b[0mcrosstab\u001b[0m\u001b[0;34m(\u001b[0m\u001b[0myval\u001b[0m\u001b[0;34m,\u001b[0m \u001b[0mpred\u001b[0m\u001b[0;34m,\u001b[0m \u001b[0mrownames\u001b[0m\u001b[0;34m=\u001b[0m\u001b[0;34m[\u001b[0m\u001b[0;34m'Actual'\u001b[0m\u001b[0;34m]\u001b[0m\u001b[0;34m,\u001b[0m \u001b[0mcolnames\u001b[0m\u001b[0;34m=\u001b[0m\u001b[0;34m[\u001b[0m\u001b[0;34m'Predicted'\u001b[0m\u001b[0;34m]\u001b[0m\u001b[0;34m)\u001b[0m\u001b[0;34m\u001b[0m\u001b[0;34m\u001b[0m\u001b[0m\n\u001b[0m\u001b[1;32m     54\u001b[0m \u001b[0mplt\u001b[0m\u001b[0;34m.\u001b[0m\u001b[0mfigure\u001b[0m\u001b[0;34m(\u001b[0m\u001b[0mfigsize\u001b[0m \u001b[0;34m=\u001b[0m \u001b[0;34m(\u001b[0m\u001b[0;36m6\u001b[0m\u001b[0;34m,\u001b[0m\u001b[0;36m5\u001b[0m\u001b[0;34m)\u001b[0m\u001b[0;34m)\u001b[0m\u001b[0;34m\u001b[0m\u001b[0;34m\u001b[0m\u001b[0m\n\u001b[1;32m     55\u001b[0m \u001b[0msn\u001b[0m\u001b[0;34m.\u001b[0m\u001b[0mheatmap\u001b[0m\u001b[0;34m(\u001b[0m\u001b[0mdf_confusion\u001b[0m\u001b[0;34m,\u001b[0m \u001b[0mannot\u001b[0m\u001b[0;34m=\u001b[0m\u001b[0;32mTrue\u001b[0m\u001b[0;34m,\u001b[0m \u001b[0mfmt\u001b[0m\u001b[0;34m=\u001b[0m\u001b[0;34m'g'\u001b[0m\u001b[0;34m,\u001b[0m \u001b[0mcmap\u001b[0m\u001b[0;34m=\u001b[0m\u001b[0;34m'Blues'\u001b[0m\u001b[0;34m)\u001b[0m\u001b[0;34m\u001b[0m\u001b[0;34m\u001b[0m\u001b[0m\n",
            "\u001b[0;32m/usr/local/lib/python3.6/dist-packages/pandas/core/reshape/pivot.py\u001b[0m in \u001b[0;36mcrosstab\u001b[0;34m(index, columns, values, rownames, colnames, aggfunc, margins, margins_name, dropna, normalize)\u001b[0m\n\u001b[1;32m    543\u001b[0m     \u001b[0mcolumns\u001b[0m \u001b[0;34m=\u001b[0m \u001b[0mcom\u001b[0m\u001b[0;34m.\u001b[0m\u001b[0mmaybe_make_list\u001b[0m\u001b[0;34m(\u001b[0m\u001b[0mcolumns\u001b[0m\u001b[0;34m)\u001b[0m\u001b[0;34m\u001b[0m\u001b[0;34m\u001b[0m\u001b[0m\n\u001b[1;32m    544\u001b[0m \u001b[0;34m\u001b[0m\u001b[0m\n\u001b[0;32m--> 545\u001b[0;31m     \u001b[0mrownames\u001b[0m \u001b[0;34m=\u001b[0m \u001b[0m_get_names\u001b[0m\u001b[0;34m(\u001b[0m\u001b[0mindex\u001b[0m\u001b[0;34m,\u001b[0m \u001b[0mrownames\u001b[0m\u001b[0;34m,\u001b[0m \u001b[0mprefix\u001b[0m\u001b[0;34m=\u001b[0m\u001b[0;34m\"row\"\u001b[0m\u001b[0;34m)\u001b[0m\u001b[0;34m\u001b[0m\u001b[0;34m\u001b[0m\u001b[0m\n\u001b[0m\u001b[1;32m    546\u001b[0m     \u001b[0mcolnames\u001b[0m \u001b[0;34m=\u001b[0m \u001b[0m_get_names\u001b[0m\u001b[0;34m(\u001b[0m\u001b[0mcolumns\u001b[0m\u001b[0;34m,\u001b[0m \u001b[0mcolnames\u001b[0m\u001b[0;34m,\u001b[0m \u001b[0mprefix\u001b[0m\u001b[0;34m=\u001b[0m\u001b[0;34m\"col\"\u001b[0m\u001b[0;34m)\u001b[0m\u001b[0;34m\u001b[0m\u001b[0;34m\u001b[0m\u001b[0m\n\u001b[1;32m    547\u001b[0m \u001b[0;34m\u001b[0m\u001b[0m\n",
            "\u001b[0;32m/usr/local/lib/python3.6/dist-packages/pandas/core/reshape/pivot.py\u001b[0m in \u001b[0;36m_get_names\u001b[0;34m(arrs, names, prefix)\u001b[0m\n\u001b[1;32m    678\u001b[0m     \u001b[0;32melse\u001b[0m\u001b[0;34m:\u001b[0m\u001b[0;34m\u001b[0m\u001b[0;34m\u001b[0m\u001b[0m\n\u001b[1;32m    679\u001b[0m         \u001b[0;32mif\u001b[0m \u001b[0mlen\u001b[0m\u001b[0;34m(\u001b[0m\u001b[0mnames\u001b[0m\u001b[0;34m)\u001b[0m \u001b[0;34m!=\u001b[0m \u001b[0mlen\u001b[0m\u001b[0;34m(\u001b[0m\u001b[0marrs\u001b[0m\u001b[0;34m)\u001b[0m\u001b[0;34m:\u001b[0m\u001b[0;34m\u001b[0m\u001b[0;34m\u001b[0m\u001b[0m\n\u001b[0;32m--> 680\u001b[0;31m             \u001b[0;32mraise\u001b[0m \u001b[0mAssertionError\u001b[0m\u001b[0;34m(\u001b[0m\u001b[0;34m\"arrays and names must have the same length\"\u001b[0m\u001b[0;34m)\u001b[0m\u001b[0;34m\u001b[0m\u001b[0;34m\u001b[0m\u001b[0m\n\u001b[0m\u001b[1;32m    681\u001b[0m         \u001b[0;32mif\u001b[0m \u001b[0;32mnot\u001b[0m \u001b[0misinstance\u001b[0m\u001b[0;34m(\u001b[0m\u001b[0mnames\u001b[0m\u001b[0;34m,\u001b[0m \u001b[0mlist\u001b[0m\u001b[0;34m)\u001b[0m\u001b[0;34m:\u001b[0m\u001b[0;34m\u001b[0m\u001b[0;34m\u001b[0m\u001b[0m\n\u001b[1;32m    682\u001b[0m             \u001b[0mnames\u001b[0m \u001b[0;34m=\u001b[0m \u001b[0mlist\u001b[0m\u001b[0;34m(\u001b[0m\u001b[0mnames\u001b[0m\u001b[0;34m)\u001b[0m\u001b[0;34m\u001b[0m\u001b[0;34m\u001b[0m\u001b[0m\n",
            "\u001b[0;31mAssertionError\u001b[0m: arrays and names must have the same length"
          ]
        }
      ]
    },
    {
      "cell_type": "code",
      "metadata": {
        "id": "JvAFsHIlNCEi",
        "colab_type": "code",
        "colab": {}
      },
      "source": [
        "import pandas as pd\n",
        "\n",
        "songList = pd.read_csv(\"clean.csv\", engine='python', error_bad_lines=False, encoding='utf-8')\n",
        "\n",
        "for genre in set(songList['genre']):\n",
        "    print(genre,len(songList[songList['genre']==genre]))"
      ],
      "execution_count": 0,
      "outputs": []
    }
  ]
}